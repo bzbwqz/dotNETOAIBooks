{
 "cells": [
  {
   "cell_type": "code",
   "execution_count": 1,
   "metadata": {
    "dotnet_interactive": {
     "language": "csharp"
    },
    "polyglot_notebook": {
     "kernelName": "csharp"
    },
    "vscode": {
     "languageId": "polyglot-notebook"
    }
   },
   "outputs": [],
   "source": [
    "using System;\n",
    "using System.Net;\n",
    "using System.Net.Http;\n",
    "using System.Net.Http.Headers;\n",
    "using System.Threading.Tasks;\n",
    "using System.Text;\n",
    "using System.Text.Json;\n",
    "using System.IO;\n",
    "using System.Collections.Generic;"
   ]
  },
  {
   "cell_type": "code",
   "execution_count": 2,
   "metadata": {
    "dotnet_interactive": {
     "language": "csharp"
    },
    "polyglot_notebook": {
     "kernelName": "csharp"
    },
    "vscode": {
     "languageId": "polyglot-notebook"
    }
   },
   "outputs": [],
   "source": [
    "const string accessKey = \"Your API Key\";\n",
    "const string uriBase = \"Your API Endpoint\";\n",
    "const string searchTerm = \"chatgpt 支持插件\";"
   ]
  },
  {
   "cell_type": "code",
   "execution_count": 3,
   "metadata": {
    "dotnet_interactive": {
     "language": "csharp"
    },
    "polyglot_notebook": {
     "kernelName": "csharp"
    },
    "vscode": {
     "languageId": "polyglot-notebook"
    }
   },
   "outputs": [],
   "source": [
    "struct SearchResult\n",
    "{\n",
    "    public String jsonResult;\n",
    "    public Dictionary<String, String> relevantHeaders;\n",
    "}"
   ]
  },
  {
   "cell_type": "code",
   "execution_count": 4,
   "metadata": {
    "dotnet_interactive": {
     "language": "csharp"
    },
    "polyglot_notebook": {
     "kernelName": "csharp"
    },
    "vscode": {
     "languageId": "polyglot-notebook"
    }
   },
   "outputs": [],
   "source": [
    "var uriQuery = uriBase + \"?cc=CN&q=\" + Uri.EscapeDataString(searchTerm);\n",
    "WebRequest request = WebRequest.Create(uriQuery);\n",
    "request.Headers[\"Ocp-Apim-Subscription-Key\"] = accessKey;\n",
    "HttpWebResponse response = (HttpWebResponse)request.GetResponseAsync().Result;\n",
    "string json = new StreamReader(response.GetResponseStream()).ReadToEnd();"
   ]
  },
  {
   "cell_type": "code",
   "execution_count": 5,
   "metadata": {
    "dotnet_interactive": {
     "language": "csharp"
    },
    "polyglot_notebook": {
     "kernelName": "csharp"
    },
    "vscode": {
     "languageId": "polyglot-notebook"
    }
   },
   "outputs": [
    {
     "data": {
      "text/plain": [
       "{\"_type\": \"News\", \"readLink\": \"https:\\/\\/api.bing.microsoft.com\\/api\\/v7\\/news\\/search?q=chatgpt+%E6%94%AF%E6%8C%81%E6%8F%92%E4%BB%B6\", \"queryContext\": {\"originalQuery\": \"chatgpt 支持插件\", \"adultIntent\": false}, \"totalEstimatedMatches\": 48, \"sort\": [{\"name\": \"最佳匹配\", \"id\": \"relevance\", \"isSelected\": true, \"url\": \"https:\\/\\/api.bing.microsoft.com\\/api\\/v7\\/news\\/search?q=chatgpt+%E6%94%AF%E6%8C%81%E6%8F%92%E4%BB%B6\"}, {\"name\": \"最新发布\", \"id\": \"date\", \"isSelected\": false, \"url\": \"https:\\/\\/api.bing.microsoft.com\\/api\\/v7\\/news\\/search?q=chatgpt+%E6%94%AF%E6%8C%81%E6%8F%92%E4%BB%B6&sortby=date\"}], \"value\": [{\"name\": \"ChatGPT又进化了：支持联网外部插件，甚至可以自己给自己写插件！\", \"url\": \"https:\\/\\/new.qq.com\\/rain\\/a\\/20230324A03ZL000\", \"description\": \"上周我们还在文章中说最近一阵子 AI 进化的太快了，科技行业一天，顶得上日常生活一年，这不，ChatGPT 又更新了： 它可以支持调用第三方插件了。 根据官方的说法，开放插件功能是为了更好地释放 ChatGPT 的能力，解锁更多的应用场景。 并且他们表示 ...\", \"provider\": [{\"_type\": \"Organization\", \"name\": \"腾讯网\"}], \"datePublished\": \"2023-03-24T12:48:00.0000000Z\", \"category\": \"ScienceAndTechnology\"}, {\"name\": \"OpenAI宣布ChatGPT支持第三方插件，不仅是可以联网搜索这么简单\", \"url\": \"https:\\/\\/www.thepaper.cn\\/newsDetail_forward_22435786\", \"description\": \"3月23日，OpenAI 官方宣布，ChatGPT 可以联网了。 当然，这只是冰山一角，更重要的是 OpenAI 为 ChatGPT 开放了第三方插件功能，联网只是其中的的一环。 这意味着，ChatGPT 不再仅仅是一个AI，很可能会成为一个全知全能的AI平台，这并不是夸张，因为它既拥有了整个 ...\", \"provider\": [{\"_type\": \"Organization\", \"name\": \"澎湃新闻\"}], \"datePublished\": \"2023-03-26T17:06:00.0000000Z\"}, {\"name\": \"ChatGPT全宇宙大爆炸！开启联网解除封印，无敌插件彻底颠覆体验\", \"url\": \"https:\\/\\/new.qq.com\\/rain\\/a\\/20230324A02OTJ00\", \"image\": {\"thumbnail\": {\"contentUrl\": \"https:\\/\\/www.bing.com\\/th?id=OVFT.M3hN5pkham9TKfFI2GJZTy&pid=News\", \"width\": 700, \"height\": 522}}, \"description\": \"【新智元导读】 OpenAI冷不丁又宣布了惊爆全球的消息：ChatGPT可以集成第三方插件了！唯一的封印解除后，ChatGPT俨然已经迎来了属于自己的「全知全能」宇宙。网友直呼：AI的APP Store时刻已来！ 之前，大家都公认ChatGPT几乎能上天入地，无所不能，唯一的缺点就是——不能联网。因为它的训练数据集截止到21年9月，所以它对于这以后世界的了解，还是一片空白。 OpenAI表示，添加\", \"provider\": [{\"_type\": \"Organization\", \"name\": \"腾讯网\", \"image\": {\"thumbnail\": {\"contentUrl\": \"https:\\/\\/www.bing.com\\/th?id=ODF.z5yLgSgBNRsE9jRkGGoXPg&pid=news\"}}}], \"datePublished\": \"2023-04-09T07:02:00.0000000Z\", \"category\": \"ScienceAndTechnology\"}, {\"name\": \"OpenAI宣布ChatGPT支持第三方插件，不仅是可以联网搜索这么简单\", \"url\": \"https:\\/\\/www.thepaper.cn\\/newsDetail_forward_22435786?commTag=true\", \"description\": \"3月23日，OpenAI 官方宣布，ChatGPT 可以联网了。 当然，这只是冰山一角，更重要的是 OpenAI 为 ChatGPT 开放了第三方插件功能，联网只是其中的的一环。 这意味着，ChatGPT 不再仅仅是一个AI，很可能会成为一个全知全能的AI平台，这并不是夸张，因为它既拥有了整个 ...\", \"provider\": [{\"_type\": \"Organization\", \"name\": \"澎湃新闻\"}], \"datePublished\": \"2023-03-26T11:41:00.0000000Z\", \"category\": \"ScienceAndTechnology\"}, {\"name\": \"能联网还支持第三方插件，ChatGPT插上了翅膀\", \"url\": \"https:\\/\\/www.sohu.com\\/a\\/659413686_121207965\", \"description\": \"能联网还支持第三方插件，ChatGPT插上了翅膀 在2023年的春季，ChatGPT无疑是整个互联网世界中最耀眼的明星，甚至用上知天文、下知地理来形容它也绝不过分。但相信只要用过ChatGPT的朋友应该都知道，其实它的博学多才也是有限制的，其时间线几乎被停在某一刻 ...\", \"provider\": [{\"_type\": \"Organization\", \"name\": \"搜狐\"}], \"datePublished\": \"2023-03-26T18:38:00.0000000Z\", \"category\": \"ScienceAndTechnology\"}, {\"name\": \"OpenAI宣布ChatGPT支持第三方插件，不仅是可以联网搜索这么简单\", \"url\": \"https:\\/\\/www.51cto.com\\/article\\/750127.html\", \"description\": \"“我认为 ChatGPT 插件的引入对 App Store 是一个威胁。” ChatGPT这是准备一统江湖了。 3月23日，OpenAI 官方宣布，ChatGPT 可以联网了。 当然，这只是冰山一角，更重要的是 OpenAI 为 ChatGPT 开放了第三方插件功能，联网只是其中的的一环。 这意味着，ChatGPT 不再仅仅是 ...\", \"provider\": [{\"_type\": \"Organization\", \"name\": \"51CTO\"}], \"datePublished\": \"2023-03-24T16:31:00.0000000Z\"}, {\"name\": \"ChatGPT插件发布，关注有大模型研发能力以及垂直落地场景的标的\", \"url\": \"https:\\/\\/www.sohu.com\\/a\\/659575925_114984\", \"description\": \"ChatGPT插件发布，新生态加速构建——行业点评报告-20230326 1、ChatGPT初步实现插件支持，首批包括11个第三方插件 2023年3月23日，OpenAI发表博客表示已在ChatGPT中实现了对插件（plugins）的初步支持。插件专为语言模型设计，在安全可控的原则下，支持ChatGPT访问最新 ...\", \"provider\": [{\"_type\": \"Organization\", \"name\": \"搜狐\"}], \"datePublished\": \"2023-03-27T08:59:00.0000000Z\", \"category\": \"ScienceAndTechnology\"}, {\"name\": \"ChatGPT：我终于可以联网了\", \"url\": \"https:\\/\\/www.163.com\\/dy\\/article\\/I0JUNQKB0511A72B.html\", \"description\": \"3月24日，OpenAI再曝大动作，宣布ChatGPT支持第三方插件，也就是解除了其无法联网的限制。 01、ChatGPT不会“满嘴跑火车”了 此前，OpenAI的语言模型具有局限性，因为其训练的数据截至2021年9月，因此需依靠人工训练数据获取最新信息。 谷歌推出的竞品Bard便以“实时联网”为优势，谷歌曾表示：“与ChatGPT相比，Bard不仅基于文本和代码，并且有互联网上的真实世界的信息作\", \"provider\": [{\"_type\": \"Organization\", \"name\": \"网易\", \"image\": {\"thumbnail\": {\"contentUrl\": \"https:\\/\\/www.bing.com\\/th?id=ODF.pRQjNppdWgLiPgLb5-86wg&pid=news\"}}}], \"datePublished\": \"2023-03-24T08:04:00.0000000Z\", \"category\": \"ScienceAndTechnology\"}, {\"name\": \"ChatGPT：我终于可以联网了\", \"url\": \"https:\\/\\/www.163.com\\/dy\\/article\\/I0JUNQKB0511A72B.html\", \"description\": \"3月24日，OpenAI再曝大动作，宣布ChatGPT支持第三方插件，也就是解除了其无法联网的限制。 01、ChatGPT不会“满嘴跑火车”了 此前，OpenAI的语言模型具有局限性，因为其训练的数据截至2021年9月，因此需依靠人工训练数据获取最新信息。 谷歌推出的竞品Bard便以 ...\", \"provider\": [{\"_type\": \"Organization\", \"name\": \"网易\"}], \"datePublished\": \"2023-03-24T16:05:00.0000000Z\", \"category\": \"ScienceAndTechnology\"}, {\"name\": \"OpenAI发布ChatGPT插件支持，官方文档译文\", \"url\": \"https:\\/\\/www.36kr.com\\/p\\/2184870664651650\", \"description\": \"OpenAI发布了ChatGPT的插件支持，这些插件是专为语言模型设计的工具，以安全性为核心原则。插件可以帮助ChatGPT访问最新信息、进行计算或使用第三 ...\", \"provider\": [{\"_type\": \"Organization\", \"name\": \"36氪\"}], \"datePublished\": \"2023-03-24T11:48:00.0000000Z\"}]}"
      ]
     },
     "metadata": {},
     "output_type": "display_data"
    }
   ],
   "source": [
    "json"
   ]
  },
  {
   "cell_type": "code",
   "execution_count": 6,
   "metadata": {
    "dotnet_interactive": {
     "language": "csharp"
    },
    "polyglot_notebook": {
     "kernelName": "csharp"
    },
    "vscode": {
     "languageId": "polyglot-notebook"
    }
   },
   "outputs": [],
   "source": [
    "public class News{\n",
    "    public string name {get;set;}\n",
    "    public string description {get;set;}\n",
    "}"
   ]
  },
  {
   "cell_type": "code",
   "execution_count": 9,
   "metadata": {
    "dotnet_interactive": {
     "language": "csharp"
    },
    "polyglot_notebook": {
     "kernelName": "csharp"
    },
    "vscode": {
     "languageId": "polyglot-notebook"
    }
   },
   "outputs": [],
   "source": [
    "var list = JsonDocument.Parse(json).RootElement.GetProperty(\"value\").EnumerateArray().ToList();"
   ]
  },
  {
   "cell_type": "code",
   "execution_count": 10,
   "metadata": {
    "dotnet_interactive": {
     "language": "csharp"
    },
    "polyglot_notebook": {
     "kernelName": "csharp"
    },
    "vscode": {
     "languageId": "polyglot-notebook"
    }
   },
   "outputs": [],
   "source": [
    "IList<News> newsList = new List<News>();\n",
    "\n",
    "foreach(var item in list.Take(10)){\n",
    "    var news = new News();\n",
    "    news.name = item.GetProperty(\"name\").ToString();\n",
    "    news.description = item.GetProperty(\"description\").ToString();\n",
    "    newsList.Add(news);\n",
    "}"
   ]
  },
  {
   "cell_type": "code",
   "execution_count": 11,
   "metadata": {
    "dotnet_interactive": {
     "language": "csharp"
    },
    "polyglot_notebook": {
     "kernelName": "csharp"
    },
    "vscode": {
     "languageId": "polyglot-notebook"
    }
   },
   "outputs": [
    {
     "data": {
      "text/html": [
       "<table><thead><tr><th><i>index</i></th><th>value</th></tr></thead><tbody><tr><td>0</td><td><details class=\"dni-treeview\"><summary><span class=\"dni-code-hint\"><code>Submission#7+News</code></span></summary><div><table><thead><tr></tr></thead><tbody><tr><td>name</td><td>ChatGPT又进化了：支持联网外部插件，甚至可以自己给自己写插件！</td></tr><tr><td>description</td><td>上周我们还在文章中说最近一阵子 AI 进化的太快了，科技行业一天，顶得上日常生活一年，这不，ChatGPT 又更新了： 它可以支持调用第三方插件了。 根据官方的说法，开放插件功能是为了更好地释放 ChatGPT 的能力，解锁更多的应用场景。 并且他们表示 ...</td></tr></tbody></table></div></details></td></tr><tr><td>1</td><td><details class=\"dni-treeview\"><summary><span class=\"dni-code-hint\"><code>Submission#7+News</code></span></summary><div><table><thead><tr></tr></thead><tbody><tr><td>name</td><td>OpenAI宣布ChatGPT支持第三方插件，不仅是可以联网搜索这么简单</td></tr><tr><td>description</td><td>3月23日，OpenAI 官方宣布，ChatGPT 可以联网了。 当然，这只是冰山一角，更重要的是 OpenAI 为 ChatGPT 开放了第三方插件功能，联网只是其中的的一环。 这意味着，ChatGPT 不再仅仅是一个AI，很可能会成为一个全知全能的AI平台，这并不是夸张，因为它既拥有了整个 ...</td></tr></tbody></table></div></details></td></tr><tr><td>2</td><td><details class=\"dni-treeview\"><summary><span class=\"dni-code-hint\"><code>Submission#7+News</code></span></summary><div><table><thead><tr></tr></thead><tbody><tr><td>name</td><td>ChatGPT全宇宙大爆炸！开启联网解除封印，无敌插件彻底颠覆体验</td></tr><tr><td>description</td><td>【新智元导读】 OpenAI冷不丁又宣布了惊爆全球的消息：ChatGPT可以集成第三方插件了！唯一的封印解除后，ChatGPT俨然已经迎来了属于自己的「全知全能」宇宙。网友直呼：AI的APP Store时刻已来！ 之前，大家都公认ChatGPT几乎能上天入地，无所不能，唯一的缺点就是——不能联网。因为它的训练数据集截止到21年9月，所以它对于这以后世界的了解，还是一片空白。 OpenAI表示，添加</td></tr></tbody></table></div></details></td></tr><tr><td>3</td><td><details class=\"dni-treeview\"><summary><span class=\"dni-code-hint\"><code>Submission#7+News</code></span></summary><div><table><thead><tr></tr></thead><tbody><tr><td>name</td><td>OpenAI宣布ChatGPT支持第三方插件，不仅是可以联网搜索这么简单</td></tr><tr><td>description</td><td>3月23日，OpenAI 官方宣布，ChatGPT 可以联网了。 当然，这只是冰山一角，更重要的是 OpenAI 为 ChatGPT 开放了第三方插件功能，联网只是其中的的一环。 这意味着，ChatGPT 不再仅仅是一个AI，很可能会成为一个全知全能的AI平台，这并不是夸张，因为它既拥有了整个 ...</td></tr></tbody></table></div></details></td></tr><tr><td>4</td><td><details class=\"dni-treeview\"><summary><span class=\"dni-code-hint\"><code>Submission#7+News</code></span></summary><div><table><thead><tr></tr></thead><tbody><tr><td>name</td><td>能联网还支持第三方插件，ChatGPT插上了翅膀</td></tr><tr><td>description</td><td>能联网还支持第三方插件，ChatGPT插上了翅膀 在2023年的春季，ChatGPT无疑是整个互联网世界中最耀眼的明星，甚至用上知天文、下知地理来形容它也绝不过分。但相信只要用过ChatGPT的朋友应该都知道，其实它的博学多才也是有限制的，其时间线几乎被停在某一刻 ...</td></tr></tbody></table></div></details></td></tr><tr><td>5</td><td><details class=\"dni-treeview\"><summary><span class=\"dni-code-hint\"><code>Submission#7+News</code></span></summary><div><table><thead><tr></tr></thead><tbody><tr><td>name</td><td>OpenAI宣布ChatGPT支持第三方插件，不仅是可以联网搜索这么简单</td></tr><tr><td>description</td><td>“我认为 ChatGPT 插件的引入对 App Store 是一个威胁。” ChatGPT这是准备一统江湖了。 3月23日，OpenAI 官方宣布，ChatGPT 可以联网了。 当然，这只是冰山一角，更重要的是 OpenAI 为 ChatGPT 开放了第三方插件功能，联网只是其中的的一环。 这意味着，ChatGPT 不再仅仅是 ...</td></tr></tbody></table></div></details></td></tr><tr><td>6</td><td><details class=\"dni-treeview\"><summary><span class=\"dni-code-hint\"><code>Submission#7+News</code></span></summary><div><table><thead><tr></tr></thead><tbody><tr><td>name</td><td>ChatGPT插件发布，关注有大模型研发能力以及垂直落地场景的标的</td></tr><tr><td>description</td><td>ChatGPT插件发布，新生态加速构建——行业点评报告-20230326 1、ChatGPT初步实现插件支持，首批包括11个第三方插件 2023年3月23日，OpenAI发表博客表示已在ChatGPT中实现了对插件（plugins）的初步支持。插件专为语言模型设计，在安全可控的原则下，支持ChatGPT访问最新 ...</td></tr></tbody></table></div></details></td></tr><tr><td>7</td><td><details class=\"dni-treeview\"><summary><span class=\"dni-code-hint\"><code>Submission#7+News</code></span></summary><div><table><thead><tr></tr></thead><tbody><tr><td>name</td><td>ChatGPT：我终于可以联网了</td></tr><tr><td>description</td><td>3月24日，OpenAI再曝大动作，宣布ChatGPT支持第三方插件，也就是解除了其无法联网的限制。 01、ChatGPT不会“满嘴跑火车”了 此前，OpenAI的语言模型具有局限性，因为其训练的数据截至2021年9月，因此需依靠人工训练数据获取最新信息。 谷歌推出的竞品Bard便以“实时联网”为优势，谷歌曾表示：“与ChatGPT相比，Bard不仅基于文本和代码，并且有互联网上的真实世界的信息作</td></tr></tbody></table></div></details></td></tr><tr><td>8</td><td><details class=\"dni-treeview\"><summary><span class=\"dni-code-hint\"><code>Submission#7+News</code></span></summary><div><table><thead><tr></tr></thead><tbody><tr><td>name</td><td>ChatGPT：我终于可以联网了</td></tr><tr><td>description</td><td>3月24日，OpenAI再曝大动作，宣布ChatGPT支持第三方插件，也就是解除了其无法联网的限制。 01、ChatGPT不会“满嘴跑火车”了 此前，OpenAI的语言模型具有局限性，因为其训练的数据截至2021年9月，因此需依靠人工训练数据获取最新信息。 谷歌推出的竞品Bard便以 ...</td></tr></tbody></table></div></details></td></tr><tr><td>9</td><td><details class=\"dni-treeview\"><summary><span class=\"dni-code-hint\"><code>Submission#7+News</code></span></summary><div><table><thead><tr></tr></thead><tbody><tr><td>name</td><td>OpenAI发布ChatGPT插件支持，官方文档译文</td></tr><tr><td>description</td><td>OpenAI发布了ChatGPT的插件支持，这些插件是专为语言模型设计的工具，以安全性为核心原则。插件可以帮助ChatGPT访问最新信息、进行计算或使用第三 ...</td></tr></tbody></table></div></details></td></tr></tbody></table><style>\r\n",
       ".dni-code-hint {\r\n",
       "    font-style: italic;\r\n",
       "    overflow: hidden;\r\n",
       "    white-space: nowrap;\r\n",
       "}\r\n",
       ".dni-treeview {\r\n",
       "    white-space: nowrap;\r\n",
       "}\r\n",
       ".dni-treeview td {\r\n",
       "    vertical-align: top;\r\n",
       "    text-align: start;\r\n",
       "}\r\n",
       "details.dni-treeview {\r\n",
       "    padding-left: 1em;\r\n",
       "}\r\n",
       "table td {\r\n",
       "    text-align: start;\r\n",
       "}\r\n",
       "table tr { \r\n",
       "    vertical-align: top; \r\n",
       "    margin: 0em 0px;\r\n",
       "}\r\n",
       "table tr td pre \r\n",
       "{ \r\n",
       "    vertical-align: top !important; \r\n",
       "    margin: 0em 0px !important;\r\n",
       "} \r\n",
       "table th {\r\n",
       "    text-align: start;\r\n",
       "}\r\n",
       "</style>"
      ]
     },
     "metadata": {},
     "output_type": "display_data"
    }
   ],
   "source": [
    "newsList"
   ]
  }
 ],
 "metadata": {
  "language_info": {
   "name": "python"
  },
  "orig_nbformat": 4
 },
 "nbformat": 4,
 "nbformat_minor": 2
}

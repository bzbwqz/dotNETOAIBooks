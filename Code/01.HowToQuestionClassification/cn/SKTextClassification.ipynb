{
 "cells": [
  {
   "cell_type": "code",
   "execution_count": 1,
   "metadata": {
    "dotnet_interactive": {
     "language": "csharp"
    },
    "polyglot_notebook": {
     "kernelName": "csharp"
    },
    "vscode": {
     "languageId": "polyglot-notebook"
    }
   },
   "outputs": [
    {
     "data": {
      "text/html": [
       "<div><div></div><div></div><div><strong>Installed Packages</strong><ul><li><span>Microsoft.SemanticKernel, 0.11.146.1-preview</span></li></ul></div></div>"
      ]
     },
     "metadata": {},
     "output_type": "display_data"
    }
   ],
   "source": [
    "#r \"nuget: Microsoft.SemanticKernel, 0.11.146.1-preview\""
   ]
  },
  {
   "cell_type": "code",
   "execution_count": 2,
   "metadata": {
    "dotnet_interactive": {
     "language": "csharp"
    },
    "polyglot_notebook": {
     "kernelName": "csharp"
    },
    "vscode": {
     "languageId": "polyglot-notebook"
    }
   },
   "outputs": [],
   "source": [
    "using Microsoft.SemanticKernel;\n",
    "using Microsoft.SemanticKernel.SemanticFunctions;"
   ]
  },
  {
   "cell_type": "code",
   "execution_count": 3,
   "metadata": {
    "dotnet_interactive": {
     "language": "csharp"
    },
    "polyglot_notebook": {
     "kernelName": "csharp"
    },
    "vscode": {
     "languageId": "polyglot-notebook"
    }
   },
   "outputs": [],
   "source": [
    "IKernel kernel = Kernel.Builder.Build();"
   ]
  },
  {
   "cell_type": "code",
   "execution_count": 4,
   "metadata": {
    "dotnet_interactive": {
     "language": "csharp"
    },
    "polyglot_notebook": {
     "kernelName": "csharp"
    },
    "vscode": {
     "languageId": "polyglot-notebook"
    }
   },
   "outputs": [],
   "source": [
    "kernel.Config.AddAzureOpenAITextCompletionService(\n",
    "    \"GPT3\",      \n",
    "    \"text-davinci-003\",                  \n",
    "    \"Your Endpoint\",    \n",
    "    \"Your Key\"          \n",
    ");"
   ]
  },
  {
   "cell_type": "code",
   "execution_count": 5,
   "metadata": {
    "dotnet_interactive": {
     "language": "csharp"
    },
    "polyglot_notebook": {
     "kernelName": "csharp"
    },
    "vscode": {
     "languageId": "polyglot-notebook"
    }
   },
   "outputs": [],
   "source": [
    "string skPrompt = \"\"\"\n",
    "\n",
    "请帮我把 {{$input}} 进行类别确认，类别包括天气，课程，生成式，如果不太清楚，请回答没法确认，分类参考如下：\n",
    "\n",
    "问: 会下雨吗？ 类别:天气\n",
    "问: 今天温度？ 类别:天气\n",
    "问: 适度多少？ 类别:天气\n",
    "问: 什么是新能源车？ 类别: 课程\n",
    "问: 电动车的特点 类别: 课程\n",
    "问: 概念是什么？ 类别: 课程\n",
    "问: 课程相关的内容有哪些？ 类别: 课程\n",
    "问: 写一首诗歌？ 类别: 生成式\n",
    "问: 翻译一下 类别: 生成式\n",
    "问: 计算结果 类别: 生成式\n",
    "\n",
    "如果能确认类别，天气相关请只输出 1 ， 课程相关请只输出 2 ， 生成式相关请只输出 3 ，没法确认相关请只输出 0，并把{{$input}}和它的类别参考以下 json 格式输出\n",
    "\n",
    "{\"\"question\"\":\"\"{{$input}}\"\",\"\"label\"\":\"\"{{$label}}\"\"}\n",
    "\n",
    "\"\"\";"
   ]
  },
  {
   "cell_type": "code",
   "execution_count": 6,
   "metadata": {
    "dotnet_interactive": {
     "language": "csharp"
    },
    "polyglot_notebook": {
     "kernelName": "csharp"
    },
    "vscode": {
     "languageId": "polyglot-notebook"
    }
   },
   "outputs": [],
   "source": [
    "var promptConfig = new PromptTemplateConfig\n",
    "{\n",
    "    Completion =\n",
    "    {\n",
    "\t\tMaxTokens = 60,\n",
    "\t\tFrequencyPenalty = (float)0,\n",
    "\t\tPresencePenalty = (float)0\n",
    "    }\n",
    "};"
   ]
  },
  {
   "cell_type": "code",
   "execution_count": 7,
   "metadata": {
    "dotnet_interactive": {
     "language": "csharp"
    },
    "polyglot_notebook": {
     "kernelName": "csharp"
    },
    "vscode": {
     "languageId": "polyglot-notebook"
    }
   },
   "outputs": [],
   "source": [
    "var promptTemplate = new PromptTemplate(\n",
    "    skPrompt,                        // Prompt template defined in natural language\n",
    "    promptConfig,                    // Prompt configuration\n",
    "    kernel                           // SK instance\n",
    ");"
   ]
  },
  {
   "cell_type": "code",
   "execution_count": 8,
   "metadata": {
    "dotnet_interactive": {
     "language": "csharp"
    },
    "polyglot_notebook": {
     "kernelName": "csharp"
    },
    "vscode": {
     "languageId": "polyglot-notebook"
    }
   },
   "outputs": [
    {
     "data": {
      "text/plain": [
       "\n",
       "请帮我把 {{$input}} 进行类别确认，类别包括天气，课程，生成式，如果不太清楚，请回答没法确认，分类参考如下：\n",
       "\n",
       "问: 会下雨吗？ 类别:天气\n",
       "问: 今天温度？ 类别:天气\n",
       "问: 适度多少？ 类别:天气\n",
       "问: 什么是新能源车？ 类别: 课程\n",
       "问: 电动车的特点 类别: 课程\n",
       "问: 概念是什么？ 类别: 课程\n",
       "问: 课程相关的内容有哪些？ 类别: 课程\n",
       "问: 写一首诗歌？ 类别: 生成式\n",
       "问: 翻译一下 类别: 生成式\n",
       "问: 计算结果 类别: 生成式\n",
       "\n",
       "如果能确认类别，天气相关请只输出 1 ， 课程相关请只输出 2 ， 生成式相关请只输出 3 ，没法确认相关请只输出 0，并把{{$input}}和它的类别参考以下 json 格式输出\n",
       "\n",
       "{\"\"question\"\":\"\"{{$input}}\"\",\"\"label\"\":\"\"{{$label}}\"\"}\n"
      ]
     },
     "metadata": {},
     "output_type": "display_data"
    }
   ],
   "source": [
    "skPrompt"
   ]
  },
  {
   "cell_type": "code",
   "execution_count": 9,
   "metadata": {
    "dotnet_interactive": {
     "language": "csharp"
    },
    "polyglot_notebook": {
     "kernelName": "csharp"
    },
    "vscode": {
     "languageId": "polyglot-notebook"
    }
   },
   "outputs": [],
   "source": [
    "\n",
    "var functionConfig = new SemanticFunctionConfig(promptConfig, promptTemplate);"
   ]
  },
  {
   "cell_type": "code",
   "execution_count": 10,
   "metadata": {
    "dotnet_interactive": {
     "language": "csharp"
    },
    "polyglot_notebook": {
     "kernelName": "csharp"
    },
    "vscode": {
     "languageId": "polyglot-notebook"
    }
   },
   "outputs": [],
   "source": [
    "var classificationFunction = kernel.RegisterSemanticFunction(\"TextSkill\", \"TextClassification\", functionConfig);"
   ]
  },
  {
   "cell_type": "code",
   "execution_count": 11,
   "metadata": {
    "dotnet_interactive": {
     "language": "csharp"
    },
    "polyglot_notebook": {
     "kernelName": "csharp"
    },
    "vscode": {
     "languageId": "polyglot-notebook"
    }
   },
   "outputs": [],
   "source": [
    "var input = \"\"\"\n",
    "今天广州天气怎么样？\n",
    "\"\"\";"
   ]
  },
  {
   "cell_type": "code",
   "execution_count": 12,
   "metadata": {
    "dotnet_interactive": {
     "language": "csharp"
    },
    "polyglot_notebook": {
     "kernelName": "csharp"
    },
    "vscode": {
     "languageId": "polyglot-notebook"
    }
   },
   "outputs": [
    {
     "name": "stdout",
     "output_type": "stream",
     "text": [
      "\n",
      "{\"question\": \"今天广州天气怎么样？\", \"label\": \"1\"}\n"
     ]
    }
   ],
   "source": [
    "var classification = await kernel.RunAsync(input, classificationFunction);\n",
    "\n",
    "Console.WriteLine(classification);"
   ]
  }
 ],
 "metadata": {
  "language_info": {
   "name": "csharp"
  },
  "orig_nbformat": 4
 },
 "nbformat": 4,
 "nbformat_minor": 2
}

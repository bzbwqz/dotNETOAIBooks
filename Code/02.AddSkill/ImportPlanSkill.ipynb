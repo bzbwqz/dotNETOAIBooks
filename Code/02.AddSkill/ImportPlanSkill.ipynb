{
 "cells": [
  {
   "cell_type": "code",
   "execution_count": 107,
   "metadata": {
    "dotnet_interactive": {
     "language": "csharp"
    },
    "polyglot_notebook": {
     "kernelName": "csharp"
    },
    "vscode": {
     "languageId": "polyglot-notebook"
    }
   },
   "outputs": [
    {
     "data": {
      "text/html": [
       "<div><div></div><div></div><div><strong>Installed Packages</strong><ul><li><span>Microsoft.SemanticKernel, 0.10.72.1-preview</span></li></ul></div></div>"
      ]
     },
     "metadata": {},
     "output_type": "display_data"
    }
   ],
   "source": [
    "#r \"nuget: Microsoft.SemanticKernel, *-*\""
   ]
  },
  {
   "cell_type": "code",
   "execution_count": 108,
   "metadata": {
    "dotnet_interactive": {
     "language": "csharp"
    },
    "polyglot_notebook": {
     "kernelName": "csharp"
    },
    "vscode": {
     "languageId": "polyglot-notebook"
    }
   },
   "outputs": [],
   "source": [
    "#!import Skills/CustomSkill/CompanySearchSkill.cs"
   ]
  },
  {
   "cell_type": "code",
   "execution_count": 109,
   "metadata": {
    "dotnet_interactive": {
     "language": "csharp"
    },
    "polyglot_notebook": {
     "kernelName": "csharp"
    },
    "vscode": {
     "languageId": "polyglot-notebook"
    }
   },
   "outputs": [],
   "source": [
    "using Microsoft.SemanticKernel;\n",
    "using Microsoft.SemanticKernel.KernelExtensions;"
   ]
  },
  {
   "cell_type": "code",
   "execution_count": 110,
   "metadata": {
    "dotnet_interactive": {
     "language": "csharp"
    },
    "polyglot_notebook": {
     "kernelName": "csharp"
    },
    "vscode": {
     "languageId": "polyglot-notebook"
    }
   },
   "outputs": [],
   "source": [
    "using Microsoft.SemanticKernel.CoreSkills;\n",
    "using Microsoft.SemanticKernel.Orchestration;"
   ]
  },
  {
   "cell_type": "code",
   "execution_count": 111,
   "metadata": {
    "dotnet_interactive": {
     "language": "csharp"
    },
    "polyglot_notebook": {
     "kernelName": "csharp"
    },
    "vscode": {
     "languageId": "polyglot-notebook"
    }
   },
   "outputs": [],
   "source": [
    "IKernel kernel = Kernel.Builder.Build();"
   ]
  },
  {
   "cell_type": "code",
   "execution_count": 112,
   "metadata": {
    "dotnet_interactive": {
     "language": "csharp"
    },
    "polyglot_notebook": {
     "kernelName": "csharp"
    },
    "vscode": {
     "languageId": "polyglot-notebook"
    }
   },
   "outputs": [],
   "source": [
    "kernel.Config.AddAzureOpenAITextCompletionService(\n",
    "    \"GPT3\",      \n",
    "    \"text-davinci-003\",                  \n",
    "    \"Your Endpoint\",    \n",
    "    \"Your OpenAI API Key\"          \n",
    ");"
   ]
  },
  {
   "cell_type": "code",
   "execution_count": 113,
   "metadata": {
    "dotnet_interactive": {
     "language": "csharp"
    },
    "polyglot_notebook": {
     "kernelName": "csharp"
    },
    "vscode": {
     "languageId": "polyglot-notebook"
    }
   },
   "outputs": [],
   "source": [
    "var planner = kernel.ImportSkill(new PlannerSkill(kernel));"
   ]
  },
  {
   "cell_type": "code",
   "execution_count": 114,
   "metadata": {
    "dotnet_interactive": {
     "language": "csharp"
    },
    "polyglot_notebook": {
     "kernelName": "csharp"
    },
    "vscode": {
     "languageId": "polyglot-notebook"
    }
   },
   "outputs": [
    {
     "data": {
      "text/html": [
       "<table><thead><tr><th><i>key</i></th><th>value</th></tr></thead><tbody><tr><td>BucketOutputs</td><td><details class=\"dni-treeview\"><summary><span class=\"dni-code-hint\"><code>Microsoft.SemanticKernel.Orchestration.SKFunction</code></span></summary><div><table><thead><tr></tr></thead><tbody><tr><td>Name</td><td>BucketOutputs</td></tr><tr><td>SkillName</td><td>_GLOBAL_FUNCTIONS_</td></tr><tr><td>Description</td><td>Given an output of a function, parse the output into a number of buckets.</td></tr><tr><td>IsSemantic</td><td><div class=\"dni-plaintext\"><pre>False</pre></div></td></tr><tr><td>RequestSettings</td><td><details class=\"dni-treeview\"><summary><span class=\"dni-code-hint\"><code>Microsoft.SemanticKernel.AI.TextCompletion.CompleteRequestSettings</code></span></summary><div><table><thead><tr></tr></thead><tbody><tr><td>Temperature</td><td><div class=\"dni-plaintext\"><pre>0</pre></div></td></tr><tr><td>TopP</td><td><div class=\"dni-plaintext\"><pre>0</pre></div></td></tr><tr><td>PresencePenalty</td><td><div class=\"dni-plaintext\"><pre>0</pre></div></td></tr><tr><td>FrequencyPenalty</td><td><div class=\"dni-plaintext\"><pre>0</pre></div></td></tr><tr><td>MaxTokens</td><td><div class=\"dni-plaintext\"><pre>256</pre></div></td></tr><tr><td>StopSequences</td><td></td></tr></tbody></table></div></details></td></tr><tr><td>Parameters</td><td><table><thead><tr><th><i>index</i></th><th>value</th></tr></thead><tbody><tr><td>0</td><td><details class=\"dni-treeview\"><summary><span class=\"dni-code-hint\"><code>Microsoft.SemanticKernel.SkillDefinition.ParameterView</code></span></summary><div><table><thead><tr></tr></thead><tbody><tr><td>Name</td><td>input</td></tr><tr><td>Description</td><td>The output from a function that needs to be parse into buckets.</td></tr><tr><td>DefaultValue</td><td></td></tr></tbody></table></div></details></td></tr><tr><td>1</td><td><details class=\"dni-treeview\"><summary><span class=\"dni-code-hint\"><code>Microsoft.SemanticKernel.SkillDefinition.ParameterView</code></span></summary><div><table><thead><tr></tr></thead><tbody><tr><td>Name</td><td>bucketCount</td></tr><tr><td>Description</td><td>The number of buckets.</td></tr><tr><td>DefaultValue</td><td></td></tr></tbody></table></div></details></td></tr><tr><td>2</td><td><details class=\"dni-treeview\"><summary><span class=\"dni-code-hint\"><code>Microsoft.SemanticKernel.SkillDefinition.ParameterView</code></span></summary><div><table><thead><tr></tr></thead><tbody><tr><td>Name</td><td>bucketLabelPrefix</td></tr><tr><td>Description</td><td>The target label prefix for the resulting buckets. Result will have index appended e.g. bucketLabelPrefix=&#39;Result&#39; =&gt; Result_1, Result_2, Result_3</td></tr><tr><td>DefaultValue</td><td>Result</td></tr></tbody></table></div></details></td></tr></tbody></table></td></tr></tbody></table></div></details></td></tr><tr><td>CreatePlan</td><td><details class=\"dni-treeview\"><summary><span class=\"dni-code-hint\"><code>Microsoft.SemanticKernel.Orchestration.SKFunction</code></span></summary><div><table><thead><tr></tr></thead><tbody><tr><td>Name</td><td>CreatePlan</td></tr><tr><td>SkillName</td><td>_GLOBAL_FUNCTIONS_</td></tr><tr><td>Description</td><td>Create a plan using registered functions to accomplish a goal.</td></tr><tr><td>IsSemantic</td><td><div class=\"dni-plaintext\"><pre>False</pre></div></td></tr><tr><td>RequestSettings</td><td><details class=\"dni-treeview\"><summary><span class=\"dni-code-hint\"><code>Microsoft.SemanticKernel.AI.TextCompletion.CompleteRequestSettings</code></span></summary><div><table><thead><tr></tr></thead><tbody><tr><td>Temperature</td><td><div class=\"dni-plaintext\"><pre>0</pre></div></td></tr><tr><td>TopP</td><td><div class=\"dni-plaintext\"><pre>0</pre></div></td></tr><tr><td>PresencePenalty</td><td><div class=\"dni-plaintext\"><pre>0</pre></div></td></tr><tr><td>FrequencyPenalty</td><td><div class=\"dni-plaintext\"><pre>0</pre></div></td></tr><tr><td>MaxTokens</td><td><div class=\"dni-plaintext\"><pre>256</pre></div></td></tr><tr><td>StopSequences</td><td></td></tr></tbody></table></div></details></td></tr><tr><td>Parameters</td><td><table><thead><tr><th><i>index</i></th><th>value</th></tr></thead><tbody><tr><td>0</td><td><details class=\"dni-treeview\"><summary><span class=\"dni-code-hint\"><code>Microsoft.SemanticKernel.SkillDefinition.ParameterView</code></span></summary><div><table><thead><tr></tr></thead><tbody><tr><td>Name</td><td>input</td></tr><tr><td>Description</td><td>The goal to accomplish.</td></tr><tr><td>DefaultValue</td><td></td></tr></tbody></table></div></details></td></tr><tr><td>1</td><td><details class=\"dni-treeview\"><summary><span class=\"dni-code-hint\"><code>Microsoft.SemanticKernel.SkillDefinition.ParameterView</code></span></summary><div><table><thead><tr></tr></thead><tbody><tr><td>Name</td><td>relevancyThreshold</td></tr><tr><td>Description</td><td>The relevancy threshold when filtering registered functions.</td></tr><tr><td>DefaultValue</td><td></td></tr></tbody></table></div></details></td></tr><tr><td>2</td><td><details class=\"dni-treeview\"><summary><span class=\"dni-code-hint\"><code>Microsoft.SemanticKernel.SkillDefinition.ParameterView</code></span></summary><div><table><thead><tr></tr></thead><tbody><tr><td>Name</td><td>MaxRelevantFunctions</td></tr><tr><td>Description</td><td>Limits the number of relevant functions as result of semantic search included in the plan creation request.</td></tr><tr><td>DefaultValue</td><td>100</td></tr></tbody></table></div></details></td></tr><tr><td>3</td><td><details class=\"dni-treeview\"><summary><span class=\"dni-code-hint\"><code>Microsoft.SemanticKernel.SkillDefinition.ParameterView</code></span></summary><div><table><thead><tr></tr></thead><tbody><tr><td>Name</td><td>excludedFunctions</td></tr><tr><td>Description</td><td>A list of functions to exclude from the plan creation request.</td></tr><tr><td>DefaultValue</td><td></td></tr></tbody></table></div></details></td></tr><tr><td>4</td><td><details class=\"dni-treeview\"><summary><span class=\"dni-code-hint\"><code>Microsoft.SemanticKernel.SkillDefinition.ParameterView</code></span></summary><div><table><thead><tr></tr></thead><tbody><tr><td>Name</td><td>excludedSkills</td></tr><tr><td>Description</td><td>A list of skills to exclude from the plan creation request.</td></tr><tr><td>DefaultValue</td><td></td></tr></tbody></table></div></details></td></tr><tr><td>5</td><td><details class=\"dni-treeview\"><summary><span class=\"dni-code-hint\"><code>Microsoft.SemanticKernel.SkillDefinition.ParameterView</code></span></summary><div><table><thead><tr></tr></thead><tbody><tr><td>Name</td><td>includedFunctions</td></tr><tr><td>Description</td><td>A list of functions to include in the plan creation request.</td></tr><tr><td>DefaultValue</td><td></td></tr></tbody></table></div></details></td></tr></tbody></table></td></tr></tbody></table></div></details></td></tr><tr><td>ExecutePlan</td><td><details class=\"dni-treeview\"><summary><span class=\"dni-code-hint\"><code>Microsoft.SemanticKernel.Orchestration.SKFunction</code></span></summary><div><table><thead><tr></tr></thead><tbody><tr><td>Name</td><td>ExecutePlan</td></tr><tr><td>SkillName</td><td>_GLOBAL_FUNCTIONS_</td></tr><tr><td>Description</td><td>Execute a plan that uses registered functions to accomplish a goal.</td></tr><tr><td>IsSemantic</td><td><div class=\"dni-plaintext\"><pre>False</pre></div></td></tr><tr><td>RequestSettings</td><td><details class=\"dni-treeview\"><summary><span class=\"dni-code-hint\"><code>Microsoft.SemanticKernel.AI.TextCompletion.CompleteRequestSettings</code></span></summary><div><table><thead><tr></tr></thead><tbody><tr><td>Temperature</td><td><div class=\"dni-plaintext\"><pre>0</pre></div></td></tr><tr><td>TopP</td><td><div class=\"dni-plaintext\"><pre>0</pre></div></td></tr><tr><td>PresencePenalty</td><td><div class=\"dni-plaintext\"><pre>0</pre></div></td></tr><tr><td>FrequencyPenalty</td><td><div class=\"dni-plaintext\"><pre>0</pre></div></td></tr><tr><td>MaxTokens</td><td><div class=\"dni-plaintext\"><pre>256</pre></div></td></tr><tr><td>StopSequences</td><td></td></tr></tbody></table></div></details></td></tr><tr><td>Parameters</td><td></td></tr></tbody></table></div></details></td></tr></tbody></table><style>\r\n",
       ".dni-code-hint {\r\n",
       "    font-style: italic;\r\n",
       "    overflow: hidden;\r\n",
       "    white-space: nowrap;\r\n",
       "}\r\n",
       ".dni-treeview {\r\n",
       "    white-space: nowrap;\r\n",
       "}\r\n",
       ".dni-treeview td {\r\n",
       "    vertical-align: top;\r\n",
       "    text-align: start;\r\n",
       "}\r\n",
       "details.dni-treeview {\r\n",
       "    padding-left: 1em;\r\n",
       "}\r\n",
       "table td {\r\n",
       "    text-align: start;\r\n",
       "}\r\n",
       "table tr { \r\n",
       "    vertical-align: top; \r\n",
       "    margin: 0em 0px;\r\n",
       "}\r\n",
       "table tr td pre \r\n",
       "{ \r\n",
       "    vertical-align: top !important; \r\n",
       "    margin: 0em 0px !important;\r\n",
       "} \r\n",
       "table th {\r\n",
       "    text-align: start;\r\n",
       "}\r\n",
       "</style>"
      ]
     },
     "metadata": {},
     "output_type": "display_data"
    }
   ],
   "source": [
    "planner"
   ]
  },
  {
   "cell_type": "code",
   "execution_count": 115,
   "metadata": {
    "dotnet_interactive": {
     "language": "csharp"
    },
    "polyglot_notebook": {
     "kernelName": "csharp"
    },
    "vscode": {
     "languageId": "polyglot-notebook"
    }
   },
   "outputs": [],
   "source": [
    "\n",
    "CompanySearchSkill customSkill = new CompanySearchSkill();"
   ]
  },
  {
   "cell_type": "code",
   "execution_count": 116,
   "metadata": {
    "dotnet_interactive": {
     "language": "csharp"
    },
    "polyglot_notebook": {
     "kernelName": "csharp"
    },
    "vscode": {
     "languageId": "polyglot-notebook"
    }
   },
   "outputs": [],
   "source": [
    "var custom_skill = kernel.ImportSkill (customSkill, \"CustomSkill\");"
   ]
  },
  {
   "cell_type": "code",
   "execution_count": 117,
   "metadata": {
    "dotnet_interactive": {
     "language": "csharp"
    },
    "polyglot_notebook": {
     "kernelName": "csharp"
    },
    "vscode": {
     "languageId": "polyglot-notebook"
    }
   },
   "outputs": [],
   "source": [
    "var skillsDirectory =  System.IO.Directory.GetCurrentDirectory() + \"/Skills\";"
   ]
  },
  {
   "cell_type": "code",
   "execution_count": 118,
   "metadata": {
    "dotnet_interactive": {
     "language": "csharp"
    },
    "polyglot_notebook": {
     "kernelName": "csharp"
    },
    "vscode": {
     "languageId": "polyglot-notebook"
    }
   },
   "outputs": [],
   "source": [
    "var write_skill = kernel.ImportSemanticSkillFromDirectory(skillsDirectory,\"WriteSkill\");\n",
    "var email_skill = kernel.ImportSemanticSkillFromDirectory(skillsDirectory,\"EmailSkill\");"
   ]
  },
  {
   "cell_type": "code",
   "execution_count": 119,
   "metadata": {
    "dotnet_interactive": {
     "language": "csharp"
    },
    "polyglot_notebook": {
     "kernelName": "csharp"
    },
    "vscode": {
     "languageId": "polyglot-notebook"
    }
   },
   "outputs": [],
   "source": [
    "var ask = \"查找广州天气，把结果翻译成中文后根据天气情况生成穿衣提示，并结合天气结果和穿衣提示写一封邮件\";\n",
    "var plan = await kernel.RunAsync(ask, planner[\"CreatePlan\"]);"
   ]
  },
  {
   "cell_type": "code",
   "execution_count": 120,
   "metadata": {
    "dotnet_interactive": {
     "language": "csharp"
    },
    "polyglot_notebook": {
     "kernelName": "csharp"
    },
    "vscode": {
     "languageId": "polyglot-notebook"
    }
   },
   "outputs": [
    {
     "data": {
      "text/plain": [
       "<goal>\n",
       "查找广州天气，把结果翻译成中文后根据天气情况生成穿衣提示，并结合天气结果和穿衣提示写一封邮件\n",
       "</goal>\n",
       "<plan>\n",
       "  <function.CustomSkill.WeatherSearch input=\"Guangzhou\" setContextVariable=\"WEATHER_RESULT\"/>\n",
       "  <function.WriteSkill.Transalte input=\"$WEATHER_RESULT\" setContextVariable=\"TRANSLATED_RESULT\"/>\n",
       "  <function.WriteSkill.Tips input=\"$TRANSLATED_RESULT\" setContextVariable=\"TIPS_RESULT\"/>\n",
       "  <function.EmailSkill.WeatherMail input=\"$TRANSLATED_RESULT;$TIPS_RESULT\" setContextVariable=\"EMAIL_RESULT\"/>\n",
       "  <function._GLOBAL_FUNCTIONS_.BucketOutputs input=\"$EMAIL_RESULT\" bucketCount=\"2\" bucketLabelPrefix=\"Result\" />\n",
       "</plan>"
      ]
     },
     "metadata": {},
     "output_type": "display_data"
    }
   ],
   "source": [
    "plan.Variables.ToPlan().PlanString"
   ]
  },
  {
   "cell_type": "code",
   "execution_count": 121,
   "metadata": {
    "dotnet_interactive": {
     "language": "csharp"
    },
    "polyglot_notebook": {
     "kernelName": "csharp"
    },
    "vscode": {
     "languageId": "polyglot-notebook"
    }
   },
   "outputs": [],
   "source": [
    "var executionResults = plan;"
   ]
  },
  {
   "cell_type": "code",
   "execution_count": 122,
   "metadata": {
    "dotnet_interactive": {
     "language": "csharp"
    },
    "polyglot_notebook": {
     "kernelName": "csharp"
    },
    "vscode": {
     "languageId": "polyglot-notebook"
    }
   },
   "outputs": [
    {
     "name": "stdout",
     "output_type": "stream",
     "text": [
      "Step 1 - Execution results:\n",
      "\n",
      "<goal>\n",
      "查找广州天气，把结果翻译成中文后根据天气情况生成穿衣提示，并结合天气结果和穿衣提示写一封邮件\n",
      "</goal><plan>\n",
      "  <function.WriteSkill.Transalte input=\"$WEATHER_RESULT\" setContextVariable=\"TRANSLATED_RESULT\" />\n",
      "  <function.WriteSkill.Tips input=\"$TRANSLATED_RESULT\" setContextVariable=\"TIPS_RESULT\" />\n",
      "  <function.EmailSkill.WeatherMail input=\"$TRANSLATED_RESULT;$TIPS_RESULT\" setContextVariable=\"EMAIL_RESULT\" />\n",
      "  <function._GLOBAL_FUNCTIONS_.BucketOutputs input=\"$EMAIL_RESULT\" bucketCount=\"2\" bucketLabelPrefix=\"Result\" />\n",
      "</plan>\n",
      "\n",
      "Step 2 - Execution results:\n",
      "\n",
      "<goal>\n",
      "查找广州天气，把结果翻译成中文后根据天气情况生成穿衣提示，并结合天气结果和穿衣提示写一封邮件\n",
      "</goal><plan>\n",
      "  <function.WriteSkill.Tips input=\"$TRANSLATED_RESULT\" setContextVariable=\"TIPS_RESULT\" />\n",
      "  <function.EmailSkill.WeatherMail input=\"$TRANSLATED_RESULT;$TIPS_RESULT\" setContextVariable=\"EMAIL_RESULT\" />\n",
      "  <function._GLOBAL_FUNCTIONS_.BucketOutputs input=\"$EMAIL_RESULT\" bucketCount=\"2\" bucketLabelPrefix=\"Result\" />\n",
      "</plan>\n",
      "\n",
      "Step 3 - Execution results:\n",
      "\n",
      "<goal>\n",
      "查找广州天气，把结果翻译成中文后根据天气情况生成穿衣提示，并结合天气结果和穿衣提示写一封邮件\n",
      "</goal><plan>\n",
      "  <function.EmailSkill.WeatherMail input=\"$TRANSLATED_RESULT;$TIPS_RESULT\" setContextVariable=\"EMAIL_RESULT\" />\n",
      "  <function._GLOBAL_FUNCTIONS_.BucketOutputs input=\"$EMAIL_RESULT\" bucketCount=\"2\" bucketLabelPrefix=\"Result\" />\n",
      "</plan>\n",
      "\n",
      "Step 4 - Execution results:\n",
      "\n",
      "<goal>\n",
      "查找广州天气，把结果翻译成中文后根据天气情况生成穿衣提示，并结合天气结果和穿衣提示写一封邮件\n",
      "</goal><plan>\n",
      "  <function._GLOBAL_FUNCTIONS_.BucketOutputs input=\"$EMAIL_RESULT\" bucketCount=\"2\" bucketLabelPrefix=\"Result\" />\n",
      "</plan>\n",
      "\n",
      "Step 5 - Execution results:\n",
      "\n",
      "<goal>\n",
      "查找广州天气，把结果翻译成中文后根据天气情况生成穿衣提示，并结合天气结果和穿衣提示写一封邮件\n",
      "</goal><plan>\n",
      "</plan>\n",
      "Step 5 - COMPLETE!\n",
      "\n",
      "尊敬的同事：\n",
      "\n",
      "您好！\n",
      "\n",
      "根据最新的天气预报，广州的气温约为2度，有可能下雨。为了保暖，请您准备好毛衣、夹克衫、长裤等保暖衣物，以免受凉。\n",
      "\n",
      "同时，请您随时留意出行状况，以便及时做出相应的调整。\n",
      "\n",
      "祝您出行愉快！\n",
      "\n",
      "此致\n",
      "\n",
      "敬礼！\n"
     ]
    }
   ],
   "source": [
    "int step = 1;\n",
    "int maxSteps = 30;\n",
    "while (!executionResults.Variables.ToPlan().IsComplete && step < maxSteps)\n",
    "{\n",
    "    var results = await kernel.RunAsync(executionResults.Variables, planner[\"ExecutePlan\"]);\n",
    "    if (results.Variables.ToPlan().IsSuccessful)\n",
    "    {\n",
    "        Console.WriteLine($\"Step {step} - Execution results:\\n\");\n",
    "        Console.WriteLine(results.Variables.ToPlan().PlanString);\n",
    "\n",
    "        if (results.Variables.ToPlan().IsComplete)\n",
    "        {\n",
    "            Console.WriteLine($\"Step {step} - COMPLETE!\");\n",
    "            Console.WriteLine(results.Variables.ToPlan().Result);\n",
    "            break;\n",
    "        }\n",
    "    }\n",
    "    else\n",
    "    {\n",
    "        Console.WriteLine($\"Step {step} - Execution failed:\");\n",
    "        Console.WriteLine(results.Variables.ToPlan().Result);\n",
    "        break;\n",
    "    }\n",
    "    \n",
    "    executionResults = results;\n",
    "    step++;\n",
    "    Console.WriteLine(\"\");\n",
    "}"
   ]
  }
 ],
 "metadata": {
  "language_info": {
   "name": "python"
  },
  "orig_nbformat": 4
 },
 "nbformat": 4,
 "nbformat_minor": 2
}

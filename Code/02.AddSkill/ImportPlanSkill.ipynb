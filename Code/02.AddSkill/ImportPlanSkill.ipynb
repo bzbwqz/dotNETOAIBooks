{
 "cells": [
  {
   "cell_type": "code",
   "execution_count": 17,
   "metadata": {
    "dotnet_interactive": {
     "language": "csharp"
    },
    "polyglot_notebook": {
     "kernelName": "csharp"
    },
    "vscode": {
     "languageId": "polyglot-notebook"
    }
   },
   "outputs": [
    {
     "data": {
      "text/html": [
       "<div><div></div><div></div><div><strong>Installed Packages</strong><ul><li><span>Microsoft.SemanticKernel, 0.12.207.1-preview</span></li></ul></div></div>"
      ]
     },
     "metadata": {},
     "output_type": "display_data"
    }
   ],
   "source": [
    "#r \"nuget: Microsoft.SemanticKernel, 0.11.146.1-preview\""
   ]
  },
  {
   "cell_type": "code",
   "execution_count": 18,
   "metadata": {
    "dotnet_interactive": {
     "language": "csharp"
    },
    "polyglot_notebook": {
     "kernelName": "csharp"
    },
    "vscode": {
     "languageId": "polyglot-notebook"
    }
   },
   "outputs": [],
   "source": [
    "#!import Skills/CustomSkill/CompanySearchSkill.cs"
   ]
  },
  {
   "cell_type": "code",
   "execution_count": 19,
   "metadata": {
    "dotnet_interactive": {
     "language": "csharp"
    },
    "polyglot_notebook": {
     "kernelName": "csharp"
    },
    "vscode": {
     "languageId": "polyglot-notebook"
    }
   },
   "outputs": [],
   "source": [
    "using Microsoft.SemanticKernel;\n",
    "using Microsoft.SemanticKernel.KernelExtensions;"
   ]
  },
  {
   "cell_type": "code",
   "execution_count": 20,
   "metadata": {
    "dotnet_interactive": {
     "language": "csharp"
    },
    "polyglot_notebook": {
     "kernelName": "csharp"
    },
    "vscode": {
     "languageId": "polyglot-notebook"
    }
   },
   "outputs": [],
   "source": [
    "using Microsoft.SemanticKernel.CoreSkills;\n",
    "using Microsoft.SemanticKernel.Orchestration;"
   ]
  },
  {
   "cell_type": "code",
   "execution_count": 21,
   "metadata": {
    "dotnet_interactive": {
     "language": "csharp"
    },
    "polyglot_notebook": {
     "kernelName": "csharp"
    },
    "vscode": {
     "languageId": "polyglot-notebook"
    }
   },
   "outputs": [],
   "source": [
    "IKernel kernel = Kernel.Builder.Build();"
   ]
  },
  {
   "cell_type": "code",
   "execution_count": 22,
   "metadata": {
    "dotnet_interactive": {
     "language": "csharp"
    },
    "polyglot_notebook": {
     "kernelName": "csharp"
    },
    "vscode": {
     "languageId": "polyglot-notebook"
    }
   },
   "outputs": [],
   "source": [
    "kernel.Config.AddAzureOpenAITextCompletionService(\n",
    "    \"GPT3\",      \n",
    "    \"text-davinci-003\",                  \n",
    "    \"Your Endpoint\",    \n",
    "    \"Your OpenAI API Key\"          \n",
    ");"
   ]
  },
  {
   "cell_type": "code",
   "execution_count": 23,
   "metadata": {
    "dotnet_interactive": {
     "language": "csharp"
    },
    "polyglot_notebook": {
     "kernelName": "csharp"
    },
    "vscode": {
     "languageId": "polyglot-notebook"
    }
   },
   "outputs": [],
   "source": [
    "var planner = kernel.ImportSkill(new PlannerSkill(kernel));"
   ]
  },
  {
   "cell_type": "code",
   "execution_count": 24,
   "metadata": {
    "dotnet_interactive": {
     "language": "csharp"
    },
    "polyglot_notebook": {
     "kernelName": "csharp"
    },
    "vscode": {
     "languageId": "polyglot-notebook"
    }
   },
   "outputs": [
    {
     "data": {
      "text/html": [
       "<table><thead><tr><th><i>key</i></th><th>value</th></tr></thead><tbody><tr><td>BucketOutputs</td><td><details class=\"dni-treeview\"><summary><span class=\"dni-code-hint\"><code>Microsoft.SemanticKernel.Orchestration.SKFunction</code></span></summary><div><table><thead><tr></tr></thead><tbody><tr><td>Name</td><td>BucketOutputs</td></tr><tr><td>SkillName</td><td>_GLOBAL_FUNCTIONS_</td></tr><tr><td>Description</td><td>When the output of a function is too big, parse the output into a number of buckets.</td></tr><tr><td>IsSemantic</td><td><div class=\"dni-plaintext\"><pre>False</pre></div></td></tr><tr><td>RequestSettings</td><td><details class=\"dni-treeview\"><summary><span class=\"dni-code-hint\"><code>Microsoft.SemanticKernel.AI.TextCompletion.CompleteRequestSettings</code></span></summary><div><table><thead><tr></tr></thead><tbody><tr><td>Temperature</td><td><div class=\"dni-plaintext\"><pre>0</pre></div></td></tr><tr><td>TopP</td><td><div class=\"dni-plaintext\"><pre>0</pre></div></td></tr><tr><td>PresencePenalty</td><td><div class=\"dni-plaintext\"><pre>0</pre></div></td></tr><tr><td>FrequencyPenalty</td><td><div class=\"dni-plaintext\"><pre>0</pre></div></td></tr><tr><td>MaxTokens</td><td><div class=\"dni-plaintext\"><pre>256</pre></div></td></tr><tr><td>StopSequences</td><td></td></tr></tbody></table></div></details></td></tr><tr><td>Parameters</td><td><table><thead><tr><th><i>index</i></th><th>value</th></tr></thead><tbody><tr><td>0</td><td><details class=\"dni-treeview\"><summary><span class=\"dni-code-hint\"><code>Microsoft.SemanticKernel.SkillDefinition.ParameterView</code></span></summary><div><table><thead><tr></tr></thead><tbody><tr><td>Name</td><td>input</td></tr><tr><td>Description</td><td>The output from a function that needs to be parse into buckets.</td></tr><tr><td>DefaultValue</td><td></td></tr></tbody></table></div></details></td></tr><tr><td>1</td><td><details class=\"dni-treeview\"><summary><span class=\"dni-code-hint\"><code>Microsoft.SemanticKernel.SkillDefinition.ParameterView</code></span></summary><div><table><thead><tr></tr></thead><tbody><tr><td>Name</td><td>bucketCount</td></tr><tr><td>Description</td><td>The number of buckets.</td></tr><tr><td>DefaultValue</td><td></td></tr></tbody></table></div></details></td></tr><tr><td>2</td><td><details class=\"dni-treeview\"><summary><span class=\"dni-code-hint\"><code>Microsoft.SemanticKernel.SkillDefinition.ParameterView</code></span></summary><div><table><thead><tr></tr></thead><tbody><tr><td>Name</td><td>bucketLabelPrefix</td></tr><tr><td>Description</td><td>The target label prefix for the resulting buckets. Result will have index appended e.g. bucketLabelPrefix=&#39;Result&#39; =&gt; Result_1, Result_2, Result_3</td></tr><tr><td>DefaultValue</td><td>Result</td></tr></tbody></table></div></details></td></tr></tbody></table></td></tr></tbody></table></div></details></td></tr><tr><td>CreatePlan</td><td><details class=\"dni-treeview\"><summary><span class=\"dni-code-hint\"><code>Microsoft.SemanticKernel.Orchestration.SKFunction</code></span></summary><div><table><thead><tr></tr></thead><tbody><tr><td>Name</td><td>CreatePlan</td></tr><tr><td>SkillName</td><td>_GLOBAL_FUNCTIONS_</td></tr><tr><td>Description</td><td>Create a plan using registered functions to accomplish a goal.</td></tr><tr><td>IsSemantic</td><td><div class=\"dni-plaintext\"><pre>False</pre></div></td></tr><tr><td>RequestSettings</td><td><details class=\"dni-treeview\"><summary><span class=\"dni-code-hint\"><code>Microsoft.SemanticKernel.AI.TextCompletion.CompleteRequestSettings</code></span></summary><div><table><thead><tr></tr></thead><tbody><tr><td>Temperature</td><td><div class=\"dni-plaintext\"><pre>0</pre></div></td></tr><tr><td>TopP</td><td><div class=\"dni-plaintext\"><pre>0</pre></div></td></tr><tr><td>PresencePenalty</td><td><div class=\"dni-plaintext\"><pre>0</pre></div></td></tr><tr><td>FrequencyPenalty</td><td><div class=\"dni-plaintext\"><pre>0</pre></div></td></tr><tr><td>MaxTokens</td><td><div class=\"dni-plaintext\"><pre>256</pre></div></td></tr><tr><td>StopSequences</td><td></td></tr></tbody></table></div></details></td></tr><tr><td>Parameters</td><td><table><thead><tr><th><i>index</i></th><th>value</th></tr></thead><tbody><tr><td>0</td><td><details class=\"dni-treeview\"><summary><span class=\"dni-code-hint\"><code>Microsoft.SemanticKernel.SkillDefinition.ParameterView</code></span></summary><div><table><thead><tr></tr></thead><tbody><tr><td>Name</td><td>input</td></tr><tr><td>Description</td><td>The goal to accomplish.</td></tr><tr><td>DefaultValue</td><td></td></tr></tbody></table></div></details></td></tr><tr><td>1</td><td><details class=\"dni-treeview\"><summary><span class=\"dni-code-hint\"><code>Microsoft.SemanticKernel.SkillDefinition.ParameterView</code></span></summary><div><table><thead><tr></tr></thead><tbody><tr><td>Name</td><td>relevancyThreshold</td></tr><tr><td>Description</td><td>The relevancy threshold when filtering registered functions.</td></tr><tr><td>DefaultValue</td><td></td></tr></tbody></table></div></details></td></tr><tr><td>2</td><td><details class=\"dni-treeview\"><summary><span class=\"dni-code-hint\"><code>Microsoft.SemanticKernel.SkillDefinition.ParameterView</code></span></summary><div><table><thead><tr></tr></thead><tbody><tr><td>Name</td><td>MaxRelevantFunctions</td></tr><tr><td>Description</td><td>Limits the number of relevant functions as result of semantic search included in the plan creation request.</td></tr><tr><td>DefaultValue</td><td>100</td></tr></tbody></table></div></details></td></tr><tr><td>3</td><td><details class=\"dni-treeview\"><summary><span class=\"dni-code-hint\"><code>Microsoft.SemanticKernel.SkillDefinition.ParameterView</code></span></summary><div><table><thead><tr></tr></thead><tbody><tr><td>Name</td><td>excludedFunctions</td></tr><tr><td>Description</td><td>A list of functions to exclude from the plan creation request.</td></tr><tr><td>DefaultValue</td><td></td></tr></tbody></table></div></details></td></tr><tr><td>4</td><td><details class=\"dni-treeview\"><summary><span class=\"dni-code-hint\"><code>Microsoft.SemanticKernel.SkillDefinition.ParameterView</code></span></summary><div><table><thead><tr></tr></thead><tbody><tr><td>Name</td><td>excludedSkills</td></tr><tr><td>Description</td><td>A list of skills to exclude from the plan creation request.</td></tr><tr><td>DefaultValue</td><td></td></tr></tbody></table></div></details></td></tr><tr><td>5</td><td><details class=\"dni-treeview\"><summary><span class=\"dni-code-hint\"><code>Microsoft.SemanticKernel.SkillDefinition.ParameterView</code></span></summary><div><table><thead><tr></tr></thead><tbody><tr><td>Name</td><td>includedFunctions</td></tr><tr><td>Description</td><td>A list of functions to include in the plan creation request.</td></tr><tr><td>DefaultValue</td><td></td></tr></tbody></table></div></details></td></tr><tr><td>6</td><td><details class=\"dni-treeview\"><summary><span class=\"dni-code-hint\"><code>Microsoft.SemanticKernel.SkillDefinition.ParameterView</code></span></summary><div><table><thead><tr></tr></thead><tbody><tr><td>Name</td><td>useConditionals</td></tr><tr><td>Description</td><td>Use conditional functions to create the plan.</td></tr><tr><td>DefaultValue</td><td>False</td></tr></tbody></table></div></details></td></tr></tbody></table></td></tr></tbody></table></div></details></td></tr><tr><td>ExecutePlan</td><td><details class=\"dni-treeview\"><summary><span class=\"dni-code-hint\"><code>Microsoft.SemanticKernel.Orchestration.SKFunction</code></span></summary><div><table><thead><tr></tr></thead><tbody><tr><td>Name</td><td>ExecutePlan</td></tr><tr><td>SkillName</td><td>_GLOBAL_FUNCTIONS_</td></tr><tr><td>Description</td><td>Execute a plan that uses registered functions to accomplish a goal.</td></tr><tr><td>IsSemantic</td><td><div class=\"dni-plaintext\"><pre>False</pre></div></td></tr><tr><td>RequestSettings</td><td><details class=\"dni-treeview\"><summary><span class=\"dni-code-hint\"><code>Microsoft.SemanticKernel.AI.TextCompletion.CompleteRequestSettings</code></span></summary><div><table><thead><tr></tr></thead><tbody><tr><td>Temperature</td><td><div class=\"dni-plaintext\"><pre>0</pre></div></td></tr><tr><td>TopP</td><td><div class=\"dni-plaintext\"><pre>0</pre></div></td></tr><tr><td>PresencePenalty</td><td><div class=\"dni-plaintext\"><pre>0</pre></div></td></tr><tr><td>FrequencyPenalty</td><td><div class=\"dni-plaintext\"><pre>0</pre></div></td></tr><tr><td>MaxTokens</td><td><div class=\"dni-plaintext\"><pre>256</pre></div></td></tr><tr><td>StopSequences</td><td></td></tr></tbody></table></div></details></td></tr><tr><td>Parameters</td><td></td></tr></tbody></table></div></details></td></tr></tbody></table><style>\r\n",
       ".dni-code-hint {\r\n",
       "    font-style: italic;\r\n",
       "    overflow: hidden;\r\n",
       "    white-space: nowrap;\r\n",
       "}\r\n",
       ".dni-treeview {\r\n",
       "    white-space: nowrap;\r\n",
       "}\r\n",
       ".dni-treeview td {\r\n",
       "    vertical-align: top;\r\n",
       "    text-align: start;\r\n",
       "}\r\n",
       "details.dni-treeview {\r\n",
       "    padding-left: 1em;\r\n",
       "}\r\n",
       "table td {\r\n",
       "    text-align: start;\r\n",
       "}\r\n",
       "table tr { \r\n",
       "    vertical-align: top; \r\n",
       "    margin: 0em 0px;\r\n",
       "}\r\n",
       "table tr td pre \r\n",
       "{ \r\n",
       "    vertical-align: top !important; \r\n",
       "    margin: 0em 0px !important;\r\n",
       "} \r\n",
       "table th {\r\n",
       "    text-align: start;\r\n",
       "}\r\n",
       "</style>"
      ]
     },
     "metadata": {},
     "output_type": "display_data"
    }
   ],
   "source": [
    "planner"
   ]
  },
  {
   "cell_type": "code",
   "execution_count": 25,
   "metadata": {
    "dotnet_interactive": {
     "language": "csharp"
    },
    "polyglot_notebook": {
     "kernelName": "csharp"
    },
    "vscode": {
     "languageId": "polyglot-notebook"
    }
   },
   "outputs": [],
   "source": [
    "\n",
    "CompanySearchSkill customSkill = new CompanySearchSkill();"
   ]
  },
  {
   "cell_type": "code",
   "execution_count": 26,
   "metadata": {
    "dotnet_interactive": {
     "language": "csharp"
    },
    "polyglot_notebook": {
     "kernelName": "csharp"
    },
    "vscode": {
     "languageId": "polyglot-notebook"
    }
   },
   "outputs": [],
   "source": [
    "var custom_skill = kernel.ImportSkill (customSkill, \"CustomSkill\");"
   ]
  },
  {
   "cell_type": "code",
   "execution_count": 27,
   "metadata": {
    "dotnet_interactive": {
     "language": "csharp"
    },
    "polyglot_notebook": {
     "kernelName": "csharp"
    },
    "vscode": {
     "languageId": "polyglot-notebook"
    }
   },
   "outputs": [],
   "source": [
    "var skillsDirectory =  System.IO.Directory.GetCurrentDirectory() + \"/Skills\";"
   ]
  },
  {
   "cell_type": "code",
   "execution_count": 28,
   "metadata": {
    "dotnet_interactive": {
     "language": "csharp"
    },
    "polyglot_notebook": {
     "kernelName": "csharp"
    },
    "vscode": {
     "languageId": "polyglot-notebook"
    }
   },
   "outputs": [],
   "source": [
    "var write_skill = kernel.ImportSemanticSkillFromDirectory(skillsDirectory,\"WriteSkill\");\n",
    "var email_skill = kernel.ImportSemanticSkillFromDirectory(skillsDirectory,\"EmailSkill\");"
   ]
  },
  {
   "cell_type": "code",
   "execution_count": 29,
   "metadata": {
    "dotnet_interactive": {
     "language": "csharp"
    },
    "polyglot_notebook": {
     "kernelName": "csharp"
    },
    "vscode": {
     "languageId": "polyglot-notebook"
    }
   },
   "outputs": [],
   "source": [
    "var ask = \"查找广州天气，把结果翻译成中文后根据天气情况生成穿衣提示，并结合天气结果和穿衣提示写一封邮件\";\n",
    "var plan = await kernel.RunAsync(ask, planner[\"CreatePlan\"]);"
   ]
  },
  {
   "cell_type": "code",
   "execution_count": 30,
   "metadata": {
    "dotnet_interactive": {
     "language": "csharp"
    },
    "polyglot_notebook": {
     "kernelName": "csharp"
    },
    "vscode": {
     "languageId": "polyglot-notebook"
    }
   },
   "outputs": [
    {
     "data": {
      "text/plain": [
       "<goal>\n",
       "查找广州天气，把结果翻译成中文后根据天气情况生成穿衣提示，并结合天气结果和穿衣提示写一封邮件\n",
       "</goal>\n",
       "Error: InvalidRequest: The request is not valid, HTTP status: 404"
      ]
     },
     "metadata": {},
     "output_type": "display_data"
    }
   ],
   "source": [
    "plan.Variables.ToPlan().PlanString"
   ]
  },
  {
   "cell_type": "code",
   "execution_count": 31,
   "metadata": {
    "dotnet_interactive": {
     "language": "csharp"
    },
    "polyglot_notebook": {
     "kernelName": "csharp"
    },
    "vscode": {
     "languageId": "polyglot-notebook"
    }
   },
   "outputs": [],
   "source": [
    "var executionResults = plan;"
   ]
  },
  {
   "cell_type": "code",
   "execution_count": 32,
   "metadata": {
    "dotnet_interactive": {
     "language": "csharp"
    },
    "polyglot_notebook": {
     "kernelName": "csharp"
    },
    "vscode": {
     "languageId": "polyglot-notebook"
    }
   },
   "outputs": [
    {
     "name": "stdout",
     "output_type": "stream",
     "text": [
      "Step 1 - Execution results:\n",
      "\n",
      "<goal>\n",
      "查找广州天气，把结果翻译成中文后根据天气情况生成穿衣提示，并结合天气结果和穿衣提示写一封邮件\n",
      "</goal><plan>\n",
      "</plan>\n",
      "Step 1 - COMPLETE!\n",
      "{\"id\":\"534431ea6be64d65a401a9a7cf2d9bd3\",\"goal\":\"\\u67E5\\u627E\\u5E7F\\u5DDE\\u5929\\u6C14\\uFF0C\\u628A\\u7ED3\\u679C\\u7FFB\\u8BD1\\u6210\\u4E2D\\u6587\\u540E\\u6839\\u636E\\u5929\\u6C14\\u60C5\\u51B5\\u751F\\u6210\\u7A7F\\u8863\\u63D0\\u793A\\uFF0C\\u5E76\\u7ED3\\u5408\\u5929\\u6C14\\u7ED3\\u679C\\u548C\\u7A7F\\u8863\\u63D0\\u793A\\u5199\\u4E00\\u5C01\\u90AE\\u4EF6\",\"plan\":\"\\u003Cgoal\\u003E\\n\\u67E5\\u627E\\u5E7F\\u5DDE\\u5929\\u6C14\\uFF0C\\u628A\\u7ED3\\u679C\\u7FFB\\u8BD1\\u6210\\u4E2D\\u6587\\u540E\\u6839\\u636E\\u5929\\u6C14\\u60C5\\u51B5\\u751F\\u6210\\u7A7F\\u8863\\u63D0\\u793A\\uFF0C\\u5E76\\u7ED3\\u5408\\u5929\\u6C14\\u7ED3\\u679C\\u548C\\u7A7F\\u8863\\u63D0\\u793A\\u5199\\u4E00\\u5C01\\u90AE\\u4EF6\\n\\u003C/goal\\u003E\\nError: InvalidRequest: The request is not valid, HTTP status: 404\",\"arguments\":\"\",\"is_complete\":false,\"is_successful\":false,\"result\":\"\"}\n"
     ]
    }
   ],
   "source": [
    "int step = 1;\n",
    "int maxSteps = 30;\n",
    "while (!executionResults.Variables.ToPlan().IsComplete && step < maxSteps)\n",
    "{\n",
    "    var results = await kernel.RunAsync(executionResults.Variables, planner[\"ExecutePlan\"]);\n",
    "    if (results.Variables.ToPlan().IsSuccessful)\n",
    "    {\n",
    "        Console.WriteLine($\"Step {step} - Execution results:\\n\");\n",
    "        Console.WriteLine(results.Variables.ToPlan().PlanString);\n",
    "\n",
    "        if (results.Variables.ToPlan().IsComplete)\n",
    "        {\n",
    "            Console.WriteLine($\"Step {step} - COMPLETE!\");\n",
    "            Console.WriteLine(results.Variables.ToPlan().Result);\n",
    "            break;\n",
    "        }\n",
    "    }\n",
    "    else\n",
    "    {\n",
    "        Console.WriteLine($\"Step {step} - Execution failed:\");\n",
    "        Console.WriteLine(results.Variables.ToPlan().Result);\n",
    "        break;\n",
    "    }\n",
    "    \n",
    "    executionResults = results;\n",
    "    step++;\n",
    "    Console.WriteLine(\"\");\n",
    "}"
   ]
  }
 ],
 "metadata": {
  "language_info": {
   "name": "python"
  },
  "orig_nbformat": 4
 },
 "nbformat": 4,
 "nbformat_minor": 2
}

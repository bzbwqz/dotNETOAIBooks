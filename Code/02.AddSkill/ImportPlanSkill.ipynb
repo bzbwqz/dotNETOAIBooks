{
 "cells": [
  {
   "cell_type": "code",
   "execution_count": 18,
   "metadata": {
    "dotnet_interactive": {
     "language": "csharp"
    },
    "polyglot_notebook": {
     "kernelName": "csharp"
    },
    "vscode": {
     "languageId": "polyglot-notebook"
    }
   },
   "outputs": [
    {
     "data": {
      "text/html": [
       "<div><div></div><div></div><div><strong>Installed Packages</strong><ul><li><span>Microsoft.SemanticKernel, 0.13.277.1-preview</span></li></ul></div></div>"
      ]
     },
     "metadata": {},
     "output_type": "display_data"
    }
   ],
   "source": [
    "#r \"nuget: Microsoft.SemanticKernel, *-*\""
   ]
  },
  {
   "cell_type": "code",
   "execution_count": 19,
   "metadata": {
    "dotnet_interactive": {
     "language": "csharp"
    },
    "polyglot_notebook": {
     "kernelName": "csharp"
    },
    "vscode": {
     "languageId": "polyglot-notebook"
    }
   },
   "outputs": [],
   "source": [
    "#!import Skills/CustomSkill/CompanySearchSkill.cs"
   ]
  },
  {
   "cell_type": "code",
   "execution_count": 20,
   "metadata": {
    "dotnet_interactive": {
     "language": "csharp"
    },
    "polyglot_notebook": {
     "kernelName": "csharp"
    },
    "vscode": {
     "languageId": "polyglot-notebook"
    }
   },
   "outputs": [],
   "source": [
    "using Microsoft.SemanticKernel;\n",
    "using Microsoft.SemanticKernel.KernelExtensions;"
   ]
  },
  {
   "cell_type": "code",
   "execution_count": 21,
   "metadata": {
    "dotnet_interactive": {
     "language": "csharp"
    },
    "polyglot_notebook": {
     "kernelName": "csharp"
    },
    "vscode": {
     "languageId": "polyglot-notebook"
    }
   },
   "outputs": [],
   "source": [
    "\n",
    "using Microsoft.SemanticKernel.CoreSkills;\n",
    "using Microsoft.SemanticKernel.Orchestration;\n",
    "using Microsoft.SemanticKernel.Planning.Planners;"
   ]
  },
  {
   "cell_type": "code",
   "execution_count": 22,
   "metadata": {
    "dotnet_interactive": {
     "language": "csharp"
    },
    "polyglot_notebook": {
     "kernelName": "csharp"
    },
    "vscode": {
     "languageId": "polyglot-notebook"
    }
   },
   "outputs": [],
   "source": [
    "IKernel kernel = Kernel.Builder.Build();"
   ]
  },
  {
   "cell_type": "code",
   "execution_count": 23,
   "metadata": {
    "dotnet_interactive": {
     "language": "csharp"
    },
    "polyglot_notebook": {
     "kernelName": "csharp"
    },
    "vscode": {
     "languageId": "polyglot-notebook"
    }
   },
   "outputs": [],
   "source": [
    "kernel.Config.AddAzureTextCompletionService(\n",
    "    \"davinci\",      \n",
    "    \"GPT3Model\",                  \n",
    "    \"Your Endpoint\",    \n",
    "    \"Your Key\"       \n",
    ");"
   ]
  },
  {
   "cell_type": "code",
   "execution_count": 24,
   "metadata": {
    "dotnet_interactive": {
     "language": "csharp"
    },
    "polyglot_notebook": {
     "kernelName": "csharp"
    },
    "vscode": {
     "languageId": "polyglot-notebook"
    }
   },
   "outputs": [],
   "source": [
    "var planner = new SequentialPlanner(kernel);"
   ]
  },
  {
   "cell_type": "code",
   "execution_count": 25,
   "metadata": {
    "dotnet_interactive": {
     "language": "csharp"
    },
    "polyglot_notebook": {
     "kernelName": "csharp"
    },
    "vscode": {
     "languageId": "polyglot-notebook"
    }
   },
   "outputs": [],
   "source": [
    "// var planner = kernel.ImportSkill(new SequentialPlanner(kernel));"
   ]
  },
  {
   "cell_type": "code",
   "execution_count": 26,
   "metadata": {
    "dotnet_interactive": {
     "language": "csharp"
    },
    "polyglot_notebook": {
     "kernelName": "csharp"
    },
    "vscode": {
     "languageId": "polyglot-notebook"
    }
   },
   "outputs": [
    {
     "data": {
      "text/html": [
       "<details open=\"open\" class=\"dni-treeview\"><summary><span class=\"dni-code-hint\"><code>Microsoft.SemanticKernel.Planning.Planners.SequentialPlanner</code></span></summary><div><table><thead><tr></tr></thead><tbody></tbody></table></div></details><style>\r\n",
       ".dni-code-hint {\r\n",
       "    font-style: italic;\r\n",
       "    overflow: hidden;\r\n",
       "    white-space: nowrap;\r\n",
       "}\r\n",
       ".dni-treeview {\r\n",
       "    white-space: nowrap;\r\n",
       "}\r\n",
       ".dni-treeview td {\r\n",
       "    vertical-align: top;\r\n",
       "    text-align: start;\r\n",
       "}\r\n",
       "details.dni-treeview {\r\n",
       "    padding-left: 1em;\r\n",
       "}\r\n",
       "table td {\r\n",
       "    text-align: start;\r\n",
       "}\r\n",
       "table tr { \r\n",
       "    vertical-align: top; \r\n",
       "    margin: 0em 0px;\r\n",
       "}\r\n",
       "table tr td pre \r\n",
       "{ \r\n",
       "    vertical-align: top !important; \r\n",
       "    margin: 0em 0px !important;\r\n",
       "} \r\n",
       "table th {\r\n",
       "    text-align: start;\r\n",
       "}\r\n",
       "</style>"
      ]
     },
     "metadata": {},
     "output_type": "display_data"
    }
   ],
   "source": [
    "planner"
   ]
  },
  {
   "cell_type": "code",
   "execution_count": 27,
   "metadata": {
    "dotnet_interactive": {
     "language": "csharp"
    },
    "polyglot_notebook": {
     "kernelName": "csharp"
    },
    "vscode": {
     "languageId": "polyglot-notebook"
    }
   },
   "outputs": [],
   "source": [
    "\n",
    "CompanySearchSkill customSkill = new CompanySearchSkill();"
   ]
  },
  {
   "cell_type": "code",
   "execution_count": 28,
   "metadata": {
    "dotnet_interactive": {
     "language": "csharp"
    },
    "polyglot_notebook": {
     "kernelName": "csharp"
    },
    "vscode": {
     "languageId": "polyglot-notebook"
    }
   },
   "outputs": [],
   "source": [
    "var custom_skill = kernel.ImportSkill (customSkill, \"CustomSkill\");"
   ]
  },
  {
   "cell_type": "code",
   "execution_count": 29,
   "metadata": {
    "dotnet_interactive": {
     "language": "csharp"
    },
    "polyglot_notebook": {
     "kernelName": "csharp"
    },
    "vscode": {
     "languageId": "polyglot-notebook"
    }
   },
   "outputs": [],
   "source": [
    "var skillsDirectory =  System.IO.Directory.GetCurrentDirectory() + \"/Skills\";"
   ]
  },
  {
   "cell_type": "code",
   "execution_count": 30,
   "metadata": {
    "dotnet_interactive": {
     "language": "csharp"
    },
    "polyglot_notebook": {
     "kernelName": "csharp"
    },
    "vscode": {
     "languageId": "polyglot-notebook"
    }
   },
   "outputs": [],
   "source": [
    "var write_skill = kernel.ImportSemanticSkillFromDirectory(skillsDirectory,\"WriteSkill\");\n",
    "var email_skill = kernel.ImportSemanticSkillFromDirectory(skillsDirectory,\"EmailSkill\");"
   ]
  },
  {
   "cell_type": "code",
   "execution_count": 31,
   "metadata": {
    "dotnet_interactive": {
     "language": "csharp"
    },
    "polyglot_notebook": {
     "kernelName": "csharp"
    },
    "vscode": {
     "languageId": "polyglot-notebook"
    }
   },
   "outputs": [],
   "source": [
    "var plan = await planner.CreatePlanAsync(\"查找广州天气把结果翻译成中文后根据天气情况生成穿衣提示，并结合天气结果和穿衣提示写一封邮件\");\n",
    "// var ask = \"查找广州天气，把结果翻译成中文后根据天气情况生成穿衣提示，并结合天气结果和穿衣提示写一封邮件\";\n",
    "// var plan = await planner.CreatePlanAsync(ask);\n",
    "// var plan = await kernel.RunAsync(ask, planner[\"CreatePlan\"]);"
   ]
  },
  {
   "cell_type": "code",
   "execution_count": 36,
   "metadata": {
    "dotnet_interactive": {
     "language": "csharp"
    },
    "polyglot_notebook": {
     "kernelName": "csharp"
    },
    "vscode": {
     "languageId": "polyglot-notebook"
    }
   },
   "outputs": [
    {
     "data": {
      "text/html": [
       "<table><thead><tr><th><i>index</i></th><th>value</th></tr></thead><tbody><tr><td>0</td><td><details class=\"dni-treeview\"><summary><span class=\"dni-code-hint\"><code>Microsoft.SemanticKernel.Orchestration.Plan</code></span></summary><div><table><thead><tr></tr></thead><tbody><tr><td>State</td><td><table><thead><tr><th><i>index</i></th><th>value</th></tr></thead><tbody><tr><td>0</td><td><details class=\"dni-treeview\"><summary><span class=\"dni-code-hint\"><code>[INPUT, ]</code></span></summary><div><table><thead><tr></tr></thead><tbody><tr><td>Key</td><td>INPUT</td></tr><tr><td>Value</td><td></td></tr></tbody></table></div></details></td></tr></tbody></table></td></tr><tr><td>Steps</td><td></td></tr><tr><td>NamedParameters</td><td><table><thead><tr><th><i>index</i></th><th>value</th></tr></thead><tbody><tr><td>0</td><td><details class=\"dni-treeview\"><summary><span class=\"dni-code-hint\"><code>[INPUT, Guangzhou]</code></span></summary><div><table><thead><tr></tr></thead><tbody><tr><td>Key</td><td>INPUT</td></tr><tr><td>Value</td><td>Guangzhou</td></tr></tbody></table></div></details></td></tr></tbody></table></td></tr><tr><td>NamedOutputs</td><td><table><thead><tr><th><i>index</i></th><th>value</th></tr></thead><tbody><tr><td>0</td><td><details class=\"dni-treeview\"><summary><span class=\"dni-code-hint\"><code>[CITY_NAME, ]</code></span></summary><div><table><thead><tr></tr></thead><tbody><tr><td>Key</td><td>CITY_NAME</td></tr><tr><td>Value</td><td></td></tr></tbody></table></div></details></td></tr><tr><td>1</td><td><details class=\"dni-treeview\"><summary><span class=\"dni-code-hint\"><code>[INPUT, ]</code></span></summary><div><table><thead><tr></tr></thead><tbody><tr><td>Key</td><td>INPUT</td></tr><tr><td>Value</td><td></td></tr></tbody></table></div></details></td></tr></tbody></table></td></tr><tr><td>HasNextStep</td><td><div class=\"dni-plaintext\"><pre>False</pre></div></td></tr><tr><td>NextStepIndex</td><td><div class=\"dni-plaintext\"><pre>0</pre></div></td></tr><tr><td>Name</td><td>EmployeeSearch</td></tr><tr><td>SkillName</td><td>CustomSkill</td></tr><tr><td>Description</td><td>search employee infomation</td></tr><tr><td>IsSemantic</td><td><div class=\"dni-plaintext\"><pre>False</pre></div></td></tr><tr><td>RequestSettings</td><td><details class=\"dni-treeview\"><summary><span class=\"dni-code-hint\"><code>Microsoft.SemanticKernel.AI.TextCompletion.CompleteRequestSettings</code></span></summary><div><table><thead><tr></tr></thead><tbody><tr><td>Temperature</td><td><div class=\"dni-plaintext\"><pre>0</pre></div></td></tr><tr><td>TopP</td><td><div class=\"dni-plaintext\"><pre>0</pre></div></td></tr><tr><td>PresencePenalty</td><td><div class=\"dni-plaintext\"><pre>0</pre></div></td></tr><tr><td>FrequencyPenalty</td><td><div class=\"dni-plaintext\"><pre>0</pre></div></td></tr><tr><td>MaxTokens</td><td><div class=\"dni-plaintext\"><pre>256</pre></div></td></tr><tr><td>StopSequences</td><td></td></tr></tbody></table></div></details></td></tr></tbody></table></div></details></td></tr><tr><td>1</td><td><details class=\"dni-treeview\"><summary><span class=\"dni-code-hint\"><code>Microsoft.SemanticKernel.Orchestration.Plan</code></span></summary><div><table><thead><tr></tr></thead><tbody><tr><td>State</td><td><table><thead><tr><th><i>index</i></th><th>value</th></tr></thead><tbody><tr><td>0</td><td><details class=\"dni-treeview\"><summary><span class=\"dni-code-hint\"><code>[INPUT, ]</code></span></summary><div><table><thead><tr></tr></thead><tbody><tr><td>Key</td><td>INPUT</td></tr><tr><td>Value</td><td></td></tr></tbody></table></div></details></td></tr></tbody></table></td></tr><tr><td>Steps</td><td></td></tr><tr><td>NamedParameters</td><td><table><thead><tr><th><i>index</i></th><th>value</th></tr></thead><tbody><tr><td>0</td><td><details class=\"dni-treeview\"><summary><span class=\"dni-code-hint\"><code>[INPUT, $CITY_NAME]</code></span></summary><div><table><thead><tr></tr></thead><tbody><tr><td>Key</td><td>INPUT</td></tr><tr><td>Value</td><td>$CITY_NAME</td></tr></tbody></table></div></details></td></tr></tbody></table></td></tr><tr><td>NamedOutputs</td><td><table><thead><tr><th><i>index</i></th><th>value</th></tr></thead><tbody><tr><td>0</td><td><details class=\"dni-treeview\"><summary><span class=\"dni-code-hint\"><code>[WEATHER_RESULT, ]</code></span></summary><div><table><thead><tr></tr></thead><tbody><tr><td>Key</td><td>WEATHER_RESULT</td></tr><tr><td>Value</td><td></td></tr></tbody></table></div></details></td></tr><tr><td>1</td><td><details class=\"dni-treeview\"><summary><span class=\"dni-code-hint\"><code>[INPUT, ]</code></span></summary><div><table><thead><tr></tr></thead><tbody><tr><td>Key</td><td>INPUT</td></tr><tr><td>Value</td><td></td></tr></tbody></table></div></details></td></tr></tbody></table></td></tr><tr><td>HasNextStep</td><td><div class=\"dni-plaintext\"><pre>False</pre></div></td></tr><tr><td>NextStepIndex</td><td><div class=\"dni-plaintext\"><pre>0</pre></div></td></tr><tr><td>Name</td><td>WeatherSearch</td></tr><tr><td>SkillName</td><td>CustomSkill</td></tr><tr><td>Description</td><td>search weather</td></tr><tr><td>IsSemantic</td><td><div class=\"dni-plaintext\"><pre>False</pre></div></td></tr><tr><td>RequestSettings</td><td><details class=\"dni-treeview\"><summary><span class=\"dni-code-hint\"><code>Microsoft.SemanticKernel.AI.TextCompletion.CompleteRequestSettings</code></span></summary><div><table><thead><tr></tr></thead><tbody><tr><td>Temperature</td><td><div class=\"dni-plaintext\"><pre>0</pre></div></td></tr><tr><td>TopP</td><td><div class=\"dni-plaintext\"><pre>0</pre></div></td></tr><tr><td>PresencePenalty</td><td><div class=\"dni-plaintext\"><pre>0</pre></div></td></tr><tr><td>FrequencyPenalty</td><td><div class=\"dni-plaintext\"><pre>0</pre></div></td></tr><tr><td>MaxTokens</td><td><div class=\"dni-plaintext\"><pre>256</pre></div></td></tr><tr><td>StopSequences</td><td></td></tr></tbody></table></div></details></td></tr></tbody></table></div></details></td></tr><tr><td>2</td><td><details class=\"dni-treeview\"><summary><span class=\"dni-code-hint\"><code>Microsoft.SemanticKernel.Orchestration.Plan</code></span></summary><div><table><thead><tr></tr></thead><tbody><tr><td>State</td><td><table><thead><tr><th><i>index</i></th><th>value</th></tr></thead><tbody><tr><td>0</td><td><details class=\"dni-treeview\"><summary><span class=\"dni-code-hint\"><code>[INPUT, ]</code></span></summary><div><table><thead><tr></tr></thead><tbody><tr><td>Key</td><td>INPUT</td></tr><tr><td>Value</td><td></td></tr></tbody></table></div></details></td></tr></tbody></table></td></tr><tr><td>Steps</td><td></td></tr><tr><td>NamedParameters</td><td><table><thead><tr><th><i>index</i></th><th>value</th></tr></thead><tbody><tr><td>0</td><td><details class=\"dni-treeview\"><summary><span class=\"dni-code-hint\"><code>[INPUT, ]</code></span></summary><div><table><thead><tr></tr></thead><tbody><tr><td>Key</td><td>INPUT</td></tr><tr><td>Value</td><td></td></tr></tbody></table></div></details></td></tr></tbody></table></td></tr><tr><td>NamedOutputs</td><td><table><thead><tr><th><i>index</i></th><th>value</th></tr></thead><tbody><tr><td>0</td><td><details class=\"dni-treeview\"><summary><span class=\"dni-code-hint\"><code>[INPUT, ]</code></span></summary><div><table><thead><tr></tr></thead><tbody><tr><td>Key</td><td>INPUT</td></tr><tr><td>Value</td><td></td></tr></tbody></table></div></details></td></tr></tbody></table></td></tr><tr><td>HasNextStep</td><td><div class=\"dni-plaintext\"><pre>False</pre></div></td></tr><tr><td>NextStepIndex</td><td><div class=\"dni-plaintext\"><pre>0</pre></div></td></tr><tr><td>Name</td><td></td></tr><tr><td>SkillName</td><td>Microsoft.SemanticKernel.Orchestration.Plan</td></tr><tr><td>Description</td><td></td></tr><tr><td>IsSemantic</td><td><div class=\"dni-plaintext\"><pre>False</pre></div></td></tr><tr><td>RequestSettings</td><td><details class=\"dni-treeview\"><summary><span class=\"dni-code-hint\"><code>Microsoft.SemanticKernel.AI.TextCompletion.CompleteRequestSettings</code></span></summary><div><table><thead><tr></tr></thead><tbody><tr><td>Temperature</td><td><div class=\"dni-plaintext\"><pre>0</pre></div></td></tr><tr><td>TopP</td><td><div class=\"dni-plaintext\"><pre>0</pre></div></td></tr><tr><td>PresencePenalty</td><td><div class=\"dni-plaintext\"><pre>0</pre></div></td></tr><tr><td>FrequencyPenalty</td><td><div class=\"dni-plaintext\"><pre>0</pre></div></td></tr><tr><td>MaxTokens</td><td><div class=\"dni-plaintext\"><pre>256</pre></div></td></tr><tr><td>StopSequences</td><td></td></tr></tbody></table></div></details></td></tr></tbody></table></div></details></td></tr><tr><td>3</td><td><details class=\"dni-treeview\"><summary><span class=\"dni-code-hint\"><code>Microsoft.SemanticKernel.Orchestration.Plan</code></span></summary><div><table><thead><tr></tr></thead><tbody><tr><td>State</td><td><table><thead><tr><th><i>index</i></th><th>value</th></tr></thead><tbody><tr><td>0</td><td><details class=\"dni-treeview\"><summary><span class=\"dni-code-hint\"><code>[INPUT, ]</code></span></summary><div><table><thead><tr></tr></thead><tbody><tr><td>Key</td><td>INPUT</td></tr><tr><td>Value</td><td></td></tr></tbody></table></div></details></td></tr></tbody></table></td></tr><tr><td>Steps</td><td></td></tr><tr><td>NamedParameters</td><td><table><thead><tr><th><i>index</i></th><th>value</th></tr></thead><tbody><tr><td>0</td><td><details class=\"dni-treeview\"><summary><span class=\"dni-code-hint\"><code>[label, Weather]</code></span></summary><div><table><thead><tr></tr></thead><tbody><tr><td>Key</td><td>label</td></tr><tr><td>Value</td><td>Weather</td></tr></tbody></table></div></details></td></tr><tr><td>1</td><td><details class=\"dni-treeview\"><summary><span class=\"dni-code-hint\"><code>[INPUT, $TRANSLATED_WEATHER_RESULT]</code></span></summary><div><table><thead><tr></tr></thead><tbody><tr><td>Key</td><td>INPUT</td></tr><tr><td>Value</td><td>$TRANSLATED_WEATHER_RESULT</td></tr></tbody></table></div></details></td></tr></tbody></table></td></tr><tr><td>NamedOutputs</td><td><table><thead><tr><th><i>index</i></th><th>value</th></tr></thead><tbody><tr><td>0</td><td><details class=\"dni-treeview\"><summary><span class=\"dni-code-hint\"><code>[WEATHER_LABEL, ]</code></span></summary><div><table><thead><tr></tr></thead><tbody><tr><td>Key</td><td>WEATHER_LABEL</td></tr><tr><td>Value</td><td></td></tr></tbody></table></div></details></td></tr><tr><td>1</td><td><details class=\"dni-treeview\"><summary><span class=\"dni-code-hint\"><code>[INPUT, ]</code></span></summary><div><table><thead><tr></tr></thead><tbody><tr><td>Key</td><td>INPUT</td></tr><tr><td>Value</td><td></td></tr></tbody></table></div></details></td></tr></tbody></table></td></tr><tr><td>HasNextStep</td><td><div class=\"dni-plaintext\"><pre>False</pre></div></td></tr><tr><td>NextStepIndex</td><td><div class=\"dni-plaintext\"><pre>0</pre></div></td></tr><tr><td>Name</td><td>Classification</td></tr><tr><td>SkillName</td><td>WriteSkill</td></tr><tr><td>Description</td><td>文本分类</td></tr><tr><td>IsSemantic</td><td><div class=\"dni-plaintext\"><pre>True</pre></div></td></tr><tr><td>RequestSettings</td><td><details class=\"dni-treeview\"><summary><span class=\"dni-code-hint\"><code>Microsoft.SemanticKernel.AI.TextCompletion.CompleteRequestSettings</code></span></summary><div><table><thead><tr></tr></thead><tbody><tr><td>Temperature</td><td><div class=\"dni-plaintext\"><pre>0</pre></div></td></tr><tr><td>TopP</td><td><div class=\"dni-plaintext\"><pre>0</pre></div></td></tr><tr><td>PresencePenalty</td><td><div class=\"dni-plaintext\"><pre>0</pre></div></td></tr><tr><td>FrequencyPenalty</td><td><div class=\"dni-plaintext\"><pre>0</pre></div></td></tr><tr><td>MaxTokens</td><td><div class=\"dni-plaintext\"><pre>60</pre></div></td></tr><tr><td>StopSequences</td><td></td></tr></tbody></table></div></details></td></tr></tbody></table></div></details></td></tr><tr><td>4</td><td><details class=\"dni-treeview\"><summary><span class=\"dni-code-hint\"><code>Microsoft.SemanticKernel.Orchestration.Plan</code></span></summary><div><table><thead><tr></tr></thead><tbody><tr><td>State</td><td><table><thead><tr><th><i>index</i></th><th>value</th></tr></thead><tbody><tr><td>0</td><td><details class=\"dni-treeview\"><summary><span class=\"dni-code-hint\"><code>[INPUT, ]</code></span></summary><div><table><thead><tr></tr></thead><tbody><tr><td>Key</td><td>INPUT</td></tr><tr><td>Value</td><td></td></tr></tbody></table></div></details></td></tr></tbody></table></td></tr><tr><td>Steps</td><td></td></tr><tr><td>NamedParameters</td><td><table><thead><tr><th><i>index</i></th><th>value</th></tr></thead><tbody><tr><td>0</td><td><details class=\"dni-treeview\"><summary><span class=\"dni-code-hint\"><code>[INPUT, $WEATHER_LABEL]</code></span></summary><div><table><thead><tr></tr></thead><tbody><tr><td>Key</td><td>INPUT</td></tr><tr><td>Value</td><td>$WEATHER_LABEL</td></tr></tbody></table></div></details></td></tr></tbody></table></td></tr><tr><td>NamedOutputs</td><td><table><thead><tr><th><i>index</i></th><th>value</th></tr></thead><tbody><tr><td>0</td><td><details class=\"dni-treeview\"><summary><span class=\"dni-code-hint\"><code>[TIPS_RESULT, ]</code></span></summary><div><table><thead><tr></tr></thead><tbody><tr><td>Key</td><td>TIPS_RESULT</td></tr><tr><td>Value</td><td></td></tr></tbody></table></div></details></td></tr><tr><td>1</td><td><details class=\"dni-treeview\"><summary><span class=\"dni-code-hint\"><code>[INPUT, ]</code></span></summary><div><table><thead><tr></tr></thead><tbody><tr><td>Key</td><td>INPUT</td></tr><tr><td>Value</td><td></td></tr></tbody></table></div></details></td></tr></tbody></table></td></tr><tr><td>HasNextStep</td><td><div class=\"dni-plaintext\"><pre>False</pre></div></td></tr><tr><td>NextStepIndex</td><td><div class=\"dni-plaintext\"><pre>0</pre></div></td></tr><tr><td>Name</td><td>Tips</td></tr><tr><td>SkillName</td><td>WriteSkill</td></tr><tr><td>Description</td><td>穿衣提示</td></tr><tr><td>IsSemantic</td><td><div class=\"dni-plaintext\"><pre>True</pre></div></td></tr><tr><td>RequestSettings</td><td><details class=\"dni-treeview\"><summary><span class=\"dni-code-hint\"><code>Microsoft.SemanticKernel.AI.TextCompletion.CompleteRequestSettings</code></span></summary><div><table><thead><tr></tr></thead><tbody><tr><td>Temperature</td><td><div class=\"dni-plaintext\"><pre>0.5</pre></div></td></tr><tr><td>TopP</td><td><div class=\"dni-plaintext\"><pre>0</pre></div></td></tr><tr><td>PresencePenalty</td><td><div class=\"dni-plaintext\"><pre>0</pre></div></td></tr><tr><td>FrequencyPenalty</td><td><div class=\"dni-plaintext\"><pre>0</pre></div></td></tr><tr><td>MaxTokens</td><td><div class=\"dni-plaintext\"><pre>512</pre></div></td></tr><tr><td>StopSequences</td><td></td></tr></tbody></table></div></details></td></tr></tbody></table></div></details></td></tr><tr><td>5</td><td><details class=\"dni-treeview\"><summary><span class=\"dni-code-hint\"><code>Microsoft.SemanticKernel.Orchestration.Plan</code></span></summary><div><table><thead><tr></tr></thead><tbody><tr><td>State</td><td><table><thead><tr><th><i>index</i></th><th>value</th></tr></thead><tbody><tr><td>0</td><td><details class=\"dni-treeview\"><summary><span class=\"dni-code-hint\"><code>[INPUT, ]</code></span></summary><div><table><thead><tr></tr></thead><tbody><tr><td>Key</td><td>INPUT</td></tr><tr><td>Value</td><td></td></tr></tbody></table></div></details></td></tr></tbody></table></td></tr><tr><td>Steps</td><td></td></tr><tr><td>NamedParameters</td><td><table><thead><tr><th><i>index</i></th><th>value</th></tr></thead><tbody><tr><td>0</td><td><details class=\"dni-treeview\"><summary><span class=\"dni-code-hint\"><code>[INPUT, $TRANSLATED_WEATHER_RESULT;$TIPS_RESULT]</code></span></summary><div><table><thead><tr></tr></thead><tbody><tr><td>Key</td><td>INPUT</td></tr><tr><td>Value</td><td>$TRANSLATED_WEATHER_RESULT;$TIPS_RESULT</td></tr></tbody></table></div></details></td></tr></tbody></table></td></tr><tr><td>NamedOutputs</td><td><table><thead><tr><th><i>index</i></th><th>value</th></tr></thead><tbody><tr><td>0</td><td><details class=\"dni-treeview\"><summary><span class=\"dni-code-hint\"><code>[RESULT__EMAIL_RESULT, ]</code></span></summary><div><table><thead><tr></tr></thead><tbody><tr><td>Key</td><td>RESULT__EMAIL_RESULT</td></tr><tr><td>Value</td><td></td></tr></tbody></table></div></details></td></tr><tr><td>1</td><td><details class=\"dni-treeview\"><summary><span class=\"dni-code-hint\"><code>[INPUT, ]</code></span></summary><div><table><thead><tr></tr></thead><tbody><tr><td>Key</td><td>INPUT</td></tr><tr><td>Value</td><td></td></tr></tbody></table></div></details></td></tr></tbody></table></td></tr><tr><td>HasNextStep</td><td><div class=\"dni-plaintext\"><pre>False</pre></div></td></tr><tr><td>NextStepIndex</td><td><div class=\"dni-plaintext\"><pre>0</pre></div></td></tr><tr><td>Name</td><td>WeatherMail</td></tr><tr><td>SkillName</td><td>EmailSkill</td></tr><tr><td>Description</td><td>Write an email about weather</td></tr><tr><td>IsSemantic</td><td><div class=\"dni-plaintext\"><pre>True</pre></div></td></tr><tr><td>RequestSettings</td><td><details class=\"dni-treeview\"><summary><span class=\"dni-code-hint\"><code>Microsoft.SemanticKernel.AI.TextCompletion.CompleteRequestSettings</code></span></summary><div><table><thead><tr></tr></thead><tbody><tr><td>Temperature</td><td><div class=\"dni-plaintext\"><pre>0</pre></div></td></tr><tr><td>TopP</td><td><div class=\"dni-plaintext\"><pre>0</pre></div></td></tr><tr><td>PresencePenalty</td><td><div class=\"dni-plaintext\"><pre>0</pre></div></td></tr><tr><td>FrequencyPenalty</td><td><div class=\"dni-plaintext\"><pre>0</pre></div></td></tr><tr><td>MaxTokens</td><td><div class=\"dni-plaintext\"><pre>1024</pre></div></td></tr><tr><td>StopSequences</td><td></td></tr></tbody></table></div></details></td></tr></tbody></table></div></details></td></tr></tbody></table><style>\r\n",
       ".dni-code-hint {\r\n",
       "    font-style: italic;\r\n",
       "    overflow: hidden;\r\n",
       "    white-space: nowrap;\r\n",
       "}\r\n",
       ".dni-treeview {\r\n",
       "    white-space: nowrap;\r\n",
       "}\r\n",
       ".dni-treeview td {\r\n",
       "    vertical-align: top;\r\n",
       "    text-align: start;\r\n",
       "}\r\n",
       "details.dni-treeview {\r\n",
       "    padding-left: 1em;\r\n",
       "}\r\n",
       "table td {\r\n",
       "    text-align: start;\r\n",
       "}\r\n",
       "table tr { \r\n",
       "    vertical-align: top; \r\n",
       "    margin: 0em 0px;\r\n",
       "}\r\n",
       "table tr td pre \r\n",
       "{ \r\n",
       "    vertical-align: top !important; \r\n",
       "    margin: 0em 0px !important;\r\n",
       "} \r\n",
       "table th {\r\n",
       "    text-align: start;\r\n",
       "}\r\n",
       "</style>"
      ]
     },
     "metadata": {},
     "output_type": "display_data"
    }
   ],
   "source": [
    "// plan.Variables.ToPlan().PlanString\n",
    "plan.Steps"
   ]
  },
  {
   "cell_type": "code",
   "execution_count": 38,
   "metadata": {
    "dotnet_interactive": {
     "language": "csharp"
    },
    "polyglot_notebook": {
     "kernelName": "csharp"
    },
    "vscode": {
     "languageId": "polyglot-notebook"
    }
   },
   "outputs": [
    {
     "data": {
      "text/plain": [
       "{\"state\":[{\"Key\":\"INPUT\",\"Value\":\"\"}],\"steps\":[{\"state\":[{\"Key\":\"INPUT\",\"Value\":\"\"}],\"steps\":[],\"named_parameters\":[{\"Key\":\"INPUT\",\"Value\":\"Guangzhou\"}],\"named_outputs\":[{\"Key\":\"CITY_NAME\",\"Value\":\"\"},{\"Key\":\"INPUT\",\"Value\":\"\"}],\"next_step_index\":0,\"name\":\"EmployeeSearch\",\"skill_name\":\"CustomSkill\",\"description\":\"search employee infomation\"},{\"state\":[{\"Key\":\"INPUT\",\"Value\":\"\"}],\"steps\":[],\"named_parameters\":[{\"Key\":\"INPUT\",\"Value\":\"$CITY_NAME\"}],\"named_outputs\":[{\"Key\":\"WEATHER_RESULT\",\"Value\":\"\"},{\"Key\":\"INPUT\",\"Value\":\"\"}],\"next_step_index\":0,\"name\":\"WeatherSearch\",\"skill_name\":\"CustomSkill\",\"description\":\"search weather\"},{\"state\":[{\"Key\":\"INPUT\",\"Value\":\"\"}],\"steps\":[],\"named_parameters\":[{\"Key\":\"INPUT\",\"Value\":\"\"}],\"named_outputs\":[{\"Key\":\"INPUT\",\"Value\":\"\"}],\"next_step_index\":0,\"name\":\"\",\"skill_name\":\"Microsoft.SemanticKernel.Orchestration.Plan\",\"description\":\"\"},{\"state\":[{\"Key\":\"INPUT\",\"Value\":\"\"}],\"steps\":[],\"named_parameters\":[{\"Key\":\"label\",\"Value\":\"Weather\"},{\"Key\":\"INPUT\",\"Value\":\"$TRANSLATED_WEATHER_RESULT\"}],\"named_outputs\":[{\"Key\":\"WEATHER_LABEL\",\"Value\":\"\"},{\"Key\":\"INPUT\",\"Value\":\"\"}],\"next_step_index\":0,\"name\":\"Classification\",\"skill_name\":\"WriteSkill\",\"description\":\"\\u6587\\u672C\\u5206\\u7C7B\"},{\"state\":[{\"Key\":\"INPUT\",\"Value\":\"\"}],\"steps\":[],\"named_parameters\":[{\"Key\":\"INPUT\",\"Value\":\"$WEATHER_LABEL\"}],\"named_outputs\":[{\"Key\":\"TIPS_RESULT\",\"Value\":\"\"},{\"Key\":\"INPUT\",\"Value\":\"\"}],\"next_step_index\":0,\"name\":\"Tips\",\"skill_name\":\"WriteSkill\",\"description\":\"\\u7A7F\\u8863\\u63D0\\u793A\"},{\"state\":[{\"Key\":\"INPUT\",\"Value\":\"\"}],\"steps\":[],\"named_parameters\":[{\"Key\":\"INPUT\",\"Value\":\"$TRANSLATED_WEATHER_RESULT;$TIPS_RESULT\"}],\"named_outputs\":[{\"Key\":\"RESULT__EMAIL_RESULT\",\"Value\":\"\"},{\"Key\":\"INPUT\",\"Value\":\"\"}],\"next_step_index\":0,\"name\":\"WeatherMail\",\"skill_name\":\"EmailSkill\",\"description\":\"Write an email about weather\"}],\"named_parameters\":[{\"Key\":\"INPUT\",\"Value\":\"\"}],\"named_outputs\":[{\"Key\":\"INPUT\",\"Value\":\"\"}],\"next_step_index\":0,\"name\":\"\\u67E5\\u627E\\u5E7F\\u5DDE\\u5929\\u6C14\\uFF0C\\u628A\\u7ED3\\u679C\\u7FFB\\u8BD1\\u6210\\u4E2D\\u6587\\u540E\\u6839\\u636E\\u5929\\u6C14\\u60C5\\u51B5\\u751F\\u6210\\u7A7F\\u8863\\u63D0\\u793A\\uFF0C\\u5E76\\u7ED3\\u5408\\u5929\\u6C14\\u7ED3\\u679C\\u548C\\u7A7F\\u8863\\u63D0\\u793A\\u5199\\u4E00\\u5C01\\u90AE\\u4EF6\",\"skill_name\":\"Microsoft.SemanticKernel.Orchestration.Plan\",\"description\":\"\\u67E5\\u627E\\u5E7F\\u5DDE\\u5929\\u6C14\\uFF0C\\u628A\\u7ED3\\u679C\\u7FFB\\u8BD1\\u6210\\u4E2D\\u6587\\u540E\\u6839\\u636E\\u5929\\u6C14\\u60C5\\u51B5\\u751F\\u6210\\u7A7F\\u8863\\u63D0\\u793A\\uFF0C\\u5E76\\u7ED3\\u5408\\u5929\\u6C14\\u7ED3\\u679C\\u548C\\u7A7F\\u8863\\u63D0\\u793A\\u5199\\u4E00\\u5C01\\u90AE\\u4EF6\"}"
      ]
     },
     "metadata": {},
     "output_type": "display_data"
    }
   ],
   "source": [
    "plan.ToJson()"
   ]
  },
  {
   "cell_type": "code",
   "execution_count": 39,
   "metadata": {
    "dotnet_interactive": {
     "language": "csharp"
    },
    "polyglot_notebook": {
     "kernelName": "csharp"
    },
    "vscode": {
     "languageId": "polyglot-notebook"
    }
   },
   "outputs": [],
   "source": [
    "var result = await kernel.RunAsync(plan);"
   ]
  },
  {
   "cell_type": "code",
   "execution_count": 40,
   "metadata": {
    "dotnet_interactive": {
     "language": "csharp"
    },
    "polyglot_notebook": {
     "kernelName": "csharp"
    },
    "vscode": {
     "languageId": "polyglot-notebook"
    }
   },
   "outputs": [
    {
     "data": {
      "text/plain": [
       "尊敬的同事：\n",
       "\n",
       "您好！\n",
       "\n",
       "根据最新的天气预报，未来几天的天气将会变得更加寒冷，因此，我建议您穿上深色的休闲衣服，搭配一双舒适的运动鞋，以便您在出行时能够更加舒适。\n",
       "\n",
       "此外，请您随时留意出行状况，以免受到不必要的影响。如果您有任何疑问，请随时与我联系。\n",
       "\n",
       "祝您出行愉快！\n",
       "\n",
       "此致\n",
       "\n",
       "敬礼"
      ]
     },
     "metadata": {},
     "output_type": "display_data"
    }
   ],
   "source": [
    "result.Result"
   ]
  }
 ],
 "metadata": {
  "language_info": {
   "name": "python"
  },
  "orig_nbformat": 4
 },
 "nbformat": 4,
 "nbformat_minor": 2
}
